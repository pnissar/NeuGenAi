{
 "cells": [
  {
   "cell_type": "code",
   "execution_count": 2,
   "metadata": {},
   "outputs": [
    {
     "name": "stdout",
     "output_type": "stream",
     "text": [
      "Defaulting to user installation because normal site-packages is not writeable\n",
      "Requirement already satisfied: pdfminer.six in c:\\users\\pinja\\appdata\\roaming\\python\\python310\\site-packages (20231228)\n",
      "Requirement already satisfied: charset-normalizer>=2.0.0 in c:\\users\\pinja\\appdata\\roaming\\python\\python310\\site-packages (from pdfminer.six) (3.4.0)\n",
      "Requirement already satisfied: cryptography>=36.0.0 in c:\\users\\pinja\\appdata\\roaming\\python\\python310\\site-packages (from pdfminer.six) (44.0.0)\n",
      "Requirement already satisfied: cffi>=1.12 in c:\\users\\pinja\\appdata\\roaming\\python\\python310\\site-packages (from cryptography>=36.0.0->pdfminer.six) (1.17.1)\n",
      "Requirement already satisfied: pycparser in c:\\users\\pinja\\appdata\\roaming\\python\\python310\\site-packages (from cffi>=1.12->cryptography>=36.0.0->pdfminer.six) (2.22)\n",
      "Note: you may need to restart the kernel to use updated packages.\n"
     ]
    }
   ],
   "source": [
    "pip install pdfminer.six"
   ]
  },
  {
   "cell_type": "markdown",
   "metadata": {},
   "source": [
    "#Task 1: extracting text Under Codes and Standers"
   ]
  },
  {
   "cell_type": "markdown",
   "metadata": {},
   "source": [
    "method 1 if codes and stander are in only one page"
   ]
  },
  {
   "cell_type": "code",
   "execution_count": 56,
   "metadata": {},
   "outputs": [
    {
     "name": "stderr",
     "output_type": "stream",
     "text": [
      "The PDF <_io.BufferedReader name='Eng.pdf'> contains a metadata field indicating that it should not allow text extraction. Ignoring this field and proceeding. Use the check_extractable if you want to raise an error in this case\n"
     ]
    },
    {
     "data": {
      "text/plain": [
       "' \\n\\nCodes and standards are made to organize and unify the engineering work. \\n\\nImagine; what if there was no standard for bolts? \\n\\n\\uf0b7  A  code  is  a  set  of  specifications  for  the  analysis,  design,  manufacture,  and \\n\\nconstruction of something. \\n\\n\\uf0b7  A standard is a set of specifications for parts, materials, or processes intended \\n\\nto achieve uniformity, efficiency and specific quality. \\n\\nExamples of the organizations that establish standards and design codes: ISO , AISI, \\nSAE, ASTM, ASME, ANSI, DIN.  \\n\\nThere are many different standards related to technical drawings.  \\n\\nThe ISO standards for technical drawings are found in a two volumes handbook: \\n\\n\\uf0b7  ISO Standards Handbook: Technical drawings, Volume 1: Technical drawings \\n\\nin general \\n\\n\\uf0b7  ISO  Standards  Handbook:  Technical  drawings,  Volume  2:  Mechanical \\n\\nengineering drawings; Construction drawings; Drawing equipment \\n\\nMENG 204 - Mechanical Drawing  \\n\\n      Lecture Notes by:  Dr. Ala Hijazi \\n\\nEngineering Working Drawings Basics  \\n\\n         Page 1 of 22 \\n\\n \\n \\n \\n \\n \\n \\n \\n \\n \\n  \\n \\n \\n \\n\\x0c'"
      ]
     },
     "execution_count": 56,
     "metadata": {},
     "output_type": "execute_result"
    }
   ],
   "source": [
    "from pdfminer.high_level import extract_text\n",
    "text = extract_text('Eng.pdf', page_numbers=[0])\n",
    "text=text.split(\"Codes and Standards\")[1]\n",
    "text"
   ]
  },
  {
   "cell_type": "code",
   "execution_count": 57,
   "metadata": {},
   "outputs": [],
   "source": [
    "text=text.split(\" \\n\\n\")"
   ]
  },
  {
   "cell_type": "code",
   "execution_count": 58,
   "metadata": {},
   "outputs": [
    {
     "name": "stdout",
     "output_type": "stream",
     "text": [
      "['Codes and standards are made to organize and unify the engineering work.', 'Imagine; what if there was no standard for bolts?', '\\uf0b7  A  code  is  a  set  of  specifications  for  the  analysis,  design,  manufacture,  and', 'construction of something.', '\\uf0b7  A standard is a set of specifications for parts, materials, or processes intended', 'to achieve uniformity, efficiency and specific quality.', 'Examples of the organizations that establish standards and design codes: ISO , AISI, \\nSAE, ASTM, ASME, ANSI, DIN. ', 'There are many different standards related to technical drawings. ', 'The ISO standards for technical drawings are found in a two volumes handbook:', '\\uf0b7  ISO Standards Handbook: Technical drawings, Volume 1: Technical drawings', 'in general', 'engineering drawings; Construction drawings; Drawing equipment', '      Lecture Notes by:  Dr. Ala Hijazi', '         Page 1 of 22']\n"
     ]
    }
   ],
   "source": [
    "text.remove(text[0])\n",
    "text.remove(text[-1])\n",
    "text.remove(text[-2])\n",
    "text.remove(text[-3])\n",
    "text.remove(text[-4])\n",
    "print(text)"
   ]
  },
  {
   "cell_type": "code",
   "execution_count": 70,
   "metadata": {},
   "outputs": [
    {
     "name": "stderr",
     "output_type": "stream",
     "text": [
      "The PDF <_io.BufferedReader name='Eng.pdf'> contains a metadata field indicating that it should not allow text extraction. Ignoring this field and proceeding. Use the check_extractable if you want to raise an error in this case\n"
     ]
    },
    {
     "name": "stdout",
     "output_type": "stream",
     "text": [
      "['\\uf0b7  The  standard  sizes  of  drawing  frames  for  ISO  sized  sheets,  with  no  filing', 'margins, are as shown in the table:', 'Title  Block,  The  title  block  is  normally  placed  in  the  bottom  right  of  the  drawing \\nframe, and it should contain the following information:', '\\uf0b7  the name of the company or organization \\n\\uf0b7  the title of the drawing \\n\\uf0b7  the drawing number, which is generally a unique filing identifier \\n\\uf0b7  the scale \\n\\uf0b7  the drawing size \\n\\uf0b7  the  angle  of  projection  used,  either  first  or  third,  generally  shown', 'symbolically', '\\uf0b7  the  signature  or  initials  of  the  draftsman,  checker,  approving  officer,  and', 'issuing officer, with the respective dates', '\\uf0b7  the material of the part \\n\\uf0b7  the revision number \\n\\uf0b7  the sheet number for multi-sheet drawings \\n\\uf0b7  other information as required (tolerances, surface finish, etc.)', 'In addition to the information above, for drawings produced using CAD software, it \\nis highly recommended to have the following information in the title block:', '\\uf0b7  the name of the CAD software used and its version \\n\\uf0b7  the name of the drawing file  \\n\\uf0b7  the name of the source part or assembly file \\n\\uf0b7  the units of the dimensions (if the drawing is mistakenly printed on a different', 'paper size, the scale becomes meaningless)', 'Revision Table, A revision table is normally located in the upper right of the drawing \\nframe. All modifications to the drawing should be documented there. ', 'Material or Parts List (Bill of Materials), If the drawing contains a number of parts, \\nor if it is an assembly drawing, a tabulated parts list is added to the drawing. The bill \\nof materials is usually placed at the bottom right of the drawing frame, just above \\nthe title block.', 'MENG 204 - Mechanical Drawing ', '      Lecture Notes by:  Dr. Ala Hijazi', 'Engineering Working Drawings Basics ', '         Page 3 of 22', ' \\n \\n \\n \\n \\n \\n \\n \\n \\n  \\n \\n \\n \\n \\n \\n\\x0c']\n"
     ]
    }
   ],
   "source": [
    "all_text = extract_text('Eng.pdf',page_numbers=[2])\n",
    "all_text = all_text.split(\" \\n\\n\")\n",
    "print((all_text))\n"
   ]
  },
  {
   "cell_type": "code",
   "execution_count": null,
   "metadata": {},
   "outputs": [],
   "source": []
  },
  {
   "cell_type": "code",
   "execution_count": 72,
   "metadata": {},
   "outputs": [
    {
     "ename": "AttributeError",
     "evalue": "'str' object has no attribute 'contains'",
     "output_type": "error",
     "traceback": [
      "\u001b[1;31m---------------------------------------------------------------------------\u001b[0m",
      "\u001b[1;31mAttributeError\u001b[0m                            Traceback (most recent call last)",
      "Cell \u001b[1;32mIn[72], line 3\u001b[0m\n\u001b[0;32m      1\u001b[0m c\u001b[38;5;241m=\u001b[39m\u001b[38;5;241m0\u001b[39m\n\u001b[0;32m      2\u001b[0m \u001b[38;5;28;01mfor\u001b[39;00m i \u001b[38;5;129;01min\u001b[39;00m all_text:\n\u001b[1;32m----> 3\u001b[0m     \u001b[38;5;28;01mif\u001b[39;00m \u001b[43mi\u001b[49m\u001b[38;5;241;43m.\u001b[39;49m\u001b[43mcontains\u001b[49m(\u001b[38;5;124m\"\u001b[39m\u001b[38;5;124mMaterial or Parts List (Bill of Materials),\u001b[39m\u001b[38;5;124m\"\u001b[39m):\n\u001b[0;32m      4\u001b[0m         \u001b[38;5;28mprint\u001b[39m(i)\n\u001b[0;32m      5\u001b[0m         c\u001b[38;5;241m=\u001b[39mi\n",
      "\u001b[1;31mAttributeError\u001b[0m: 'str' object has no attribute 'contains'"
     ]
    }
   ],
   "source": [
    "c=0\n",
    "for i in all_text:\n",
    "    if i.contains(\"Material or Parts List (Bill of Materials),\"):\n",
    "        print(i)\n",
    "        c=i"
   ]
  },
  {
   "cell_type": "code",
   "execution_count": null,
   "metadata": {},
   "outputs": [],
   "source": [
    "9962486145"
   ]
  },
  {
   "cell_type": "code",
   "execution_count": 49,
   "metadata": {},
   "outputs": [
    {
     "name": "stdout",
     "output_type": "stream",
     "text": [
      "25\n",
      "\n",
      "35\n",
      "\n",
      "40\n",
      "\n",
      "35\n",
      "\n",
      "30\n",
      "\n",
      "50\n",
      "\n",
      "25\n",
      "\n",
      "3 X 4 5(cid:99) CHA M FER\n",
      "\n",
      "(cid:80)6 THRU\n",
      "(cid:88) (cid:80)12 (cid:90) 5\n",
      "2 PLCS\n",
      "\n",
      "R6\n",
      "\n",
      "30\n",
      "\n",
      "ALL DIMENSIONS\n",
      "ARE IN MILLIMETERS\n",
      "\n",
      "25\n",
      "\n",
      "80\n",
      "\n",
      "110\n",
      "\n",
      "60\n",
      "\n",
      "S H E E T   3  \n",
      "\n",
      "  O F   2 5\n",
      "\n",
      "Mount Bracket.ipt\n",
      "\n",
      "Hardware, Bracket\n",
      "\n",
      "\f\n"
     ]
    }
   ],
   "source": [
    "from pdfminer.high_level import extract_text\n",
    "\n",
    "def extract_text_pdfminer(pdf_path, page_number):\n",
    "    text = extract_text(pdf_path, page_numbers=[page_number - 1])\n",
    "    return text\n",
    "\n",
    "pdf_path = 'Auto.pdf'\n",
    "\n",
    "text = extract_text_pdfminer(pdf_path, page_number=3)\n",
    "print(text)\n"
   ]
  },
  {
   "cell_type": "code",
   "execution_count": 19,
   "metadata": {},
   "outputs": [
    {
     "name": "stdout",
     "output_type": "stream",
     "text": [
      "['30', 'A', 'A', 'R', '9', '12', '9', '9', '9', '75', '18', '7', '60', 'R15', '(cid:80)15', 'S I O', 'N', 'E', 'E  I N   M IL LI M\\nL L   D I M', 'S', 'E', 'N', 'T', 'E', 'S', 'R', 'S H E E T   2  ', '  O F   2 5', 'Fixture Block.ipt', 'Hardware, Fixture Block', '\\x0c']\n"
     ]
    }
   ],
   "source": [
    "text = extract_text_pdfminer(pdf_path, page_number=2)\n",
    "text=text.split(\"\\n\\n\")\n",
    "print(text)"
   ]
  },
  {
   "cell_type": "code",
   "execution_count": 20,
   "metadata": {},
   "outputs": [],
   "source": [
    "lis = [i for i in text if i.isnumeric() and not i.isalpha()]"
   ]
  },
  {
   "cell_type": "code",
   "execution_count": 21,
   "metadata": {},
   "outputs": [],
   "source": [
    "lis = [int(i) for i in lis]"
   ]
  },
  {
   "cell_type": "code",
   "execution_count": 22,
   "metadata": {},
   "outputs": [
    {
     "name": "stdout",
     "output_type": "stream",
     "text": [
      "[30, 9, 12, 9, 9, 9, 75, 18, 7, 60]\n"
     ]
    }
   ],
   "source": [
    "print(lis)"
   ]
  },
  {
   "cell_type": "markdown",
   "metadata": {},
   "source": [
    "Taks 4 :- width of parts present in the page 2"
   ]
  },
  {
   "cell_type": "code",
   "execution_count": 23,
   "metadata": {},
   "outputs": [
    {
     "name": "stdout",
     "output_type": "stream",
     "text": [
      "width of last item is  60\n"
     ]
    }
   ],
   "source": [
    "#width of last item in page 2\n",
    "print(\"width of last item is \",lis[-1])"
   ]
  },
  {
   "cell_type": "code",
   "execution_count": 24,
   "metadata": {},
   "outputs": [
    {
     "name": "stdout",
     "output_type": "stream",
     "text": [
      "width of first item is  75\n"
     ]
    }
   ],
   "source": [
    "#width of frst item in page 2\n",
    "print(\"width of first item is \",lis[-4])"
   ]
  },
  {
   "cell_type": "markdown",
   "metadata": {},
   "source": [
    "Task 5 : Width of two holes present in page 3"
   ]
  },
  {
   "cell_type": "code",
   "execution_count": 33,
   "metadata": {},
   "outputs": [],
   "source": [
    "page3=extract_text_pdfminer(pdf_path, page_number=3)"
   ]
  },
  {
   "cell_type": "code",
   "execution_count": 34,
   "metadata": {},
   "outputs": [
    {
     "name": "stdout",
     "output_type": "stream",
     "text": [
      "25\n",
      "\n",
      "35\n",
      "\n",
      "40\n",
      "\n",
      "35\n",
      "\n",
      "30\n",
      "\n",
      "50\n",
      "\n",
      "25\n",
      "\n",
      "3 X 4 5(cid:99) CHA M FER\n",
      "\n",
      "(cid:80)6 THRU\n",
      "(cid:88) (cid:80)12 (cid:90) 5\n",
      "2 PLCS\n",
      "\n",
      "R6\n",
      "\n",
      "30\n",
      "\n",
      "ALL DIMENSIONS\n",
      "ARE IN MILLIMETERS\n",
      "\n",
      "25\n",
      "\n",
      "80\n",
      "\n",
      "110\n",
      "\n",
      "60\n",
      "\n",
      "S H E E T   3  \n",
      "\n",
      "  O F   2 5\n",
      "\n",
      "Mount Bracket.ipt\n",
      "\n",
      "Hardware, Bracket\n",
      "\n",
      "\f\n"
     ]
    }
   ],
   "source": [
    "page3\n",
    "print(page3)\n",
    "page3=page3.split(\"\\n\\n\")\n"
   ]
  },
  {
   "cell_type": "code",
   "execution_count": 36,
   "metadata": {},
   "outputs": [
    {
     "name": "stdout",
     "output_type": "stream",
     "text": [
      "['25', '35', '40', '35', '30', '50', '25', '3 X 4 5(cid:99) CHA M FER', '(cid:80)6 THRU\\n(cid:88) (cid:80)12 (cid:90) 5\\n2 PLCS', 'R6', '30', 'ALL DIMENSIONS\\nARE IN MILLIMETERS', '25', '80', '110', '60', 'S H E E T   3  ', '  O F   2 5', 'Mount Bracket.ipt', 'Hardware, Bracket', '\\x0c']\n"
     ]
    }
   ],
   "source": [
    "print(page3)\n",
    "li=[i for i in page3 if i.isnumeric() and not i.isalpha()]"
   ]
  },
  {
   "cell_type": "code",
   "execution_count": 37,
   "metadata": {},
   "outputs": [
    {
     "name": "stdout",
     "output_type": "stream",
     "text": [
      "['25', '35', '40', '35', '30', '50', '25', '30', '25', '80', '110', '60']\n"
     ]
    }
   ],
   "source": [
    "print(li)"
   ]
  },
  {
   "cell_type": "code",
   "execution_count": 38,
   "metadata": {},
   "outputs": [
    {
     "name": "stdout",
     "output_type": "stream",
     "text": [
      "width of two holes is  50\n"
     ]
    }
   ],
   "source": [
    "#width of two holes is :\n",
    "print(\"width of two holes is \",li[5])"
   ]
  },
  {
   "cell_type": "markdown",
   "metadata": {},
   "source": [
    "#Task 6: depth of chamber"
   ]
  },
  {
   "cell_type": "code",
   "execution_count": 39,
   "metadata": {},
   "outputs": [
    {
     "name": "stdout",
     "output_type": "stream",
     "text": [
      "Depth if chamber is: 25\n"
     ]
    }
   ],
   "source": [
    "print(\"Depth if chamber is:\",li[0])"
   ]
  },
  {
   "cell_type": "code",
   "execution_count": null,
   "metadata": {},
   "outputs": [],
   "source": []
  }
 ],
 "metadata": {
  "kernelspec": {
   "display_name": "Python 3",
   "language": "python",
   "name": "python3"
  },
  "language_info": {
   "codemirror_mode": {
    "name": "ipython",
    "version": 3
   },
   "file_extension": ".py",
   "mimetype": "text/x-python",
   "name": "python",
   "nbconvert_exporter": "python",
   "pygments_lexer": "ipython3",
   "version": "3.10.0"
  }
 },
 "nbformat": 4,
 "nbformat_minor": 2
}
