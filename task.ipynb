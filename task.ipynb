{
 "cells": [
  {
   "cell_type": "code",
   "execution_count": 2,
   "metadata": {},
   "outputs": [
    {
     "name": "stdout",
     "output_type": "stream",
     "text": [
      "Defaulting to user installation because normal site-packages is not writeable\n",
      "Requirement already satisfied: pdfminer.six in c:\\users\\pinja\\appdata\\roaming\\python\\python310\\site-packages (20231228)\n",
      "Requirement already satisfied: charset-normalizer>=2.0.0 in c:\\users\\pinja\\appdata\\roaming\\python\\python310\\site-packages (from pdfminer.six) (3.4.0)\n",
      "Requirement already satisfied: cryptography>=36.0.0 in c:\\users\\pinja\\appdata\\roaming\\python\\python310\\site-packages (from pdfminer.six) (44.0.0)\n",
      "Requirement already satisfied: cffi>=1.12 in c:\\users\\pinja\\appdata\\roaming\\python\\python310\\site-packages (from cryptography>=36.0.0->pdfminer.six) (1.17.1)\n",
      "Requirement already satisfied: pycparser in c:\\users\\pinja\\appdata\\roaming\\python\\python310\\site-packages (from cffi>=1.12->cryptography>=36.0.0->pdfminer.six) (2.22)\n",
      "Note: you may need to restart the kernel to use updated packages.\n"
     ]
    }
   ],
   "source": [
    "pip install pdfminer.six"
   ]
  },
  {
   "cell_type": "markdown",
   "metadata": {},
   "source": [
    "#Task 1: extracting text Under Codes and Standers"
   ]
  },
  {
   "cell_type": "markdown",
   "metadata": {},
   "source": [
    "method 1 if codes and stander are in only one page"
   ]
  },
  {
   "cell_type": "code",
   "execution_count": 128,
   "metadata": {},
   "outputs": [
    {
     "name": "stdout",
     "output_type": "stream",
     "text": [
      "Codes and standards are made to organize and unify the engineering work.\n",
      "Imagine; what if there was no standard for bolts?\n",
      " A code is a set of specifications for the analysis, design, manufacture, and\n",
      "construction of something.\n",
      " A standard is a set of specifications for parts, materials, or processes intended\n",
      "to achieve uniformity, efficiency and specific quality.\n",
      "Examples of the organizations that establish standards and design codes: ISO , AISI,\n",
      "SAE, ASTM, ASME, ANSI, DIN.\n",
      "There are many different standards related to technical drawings.\n",
      "The ISO standards for technical drawings are found in a two volumes handbook:\n",
      " ISO Standards Handbook: Technical drawings, Volume 1: Technical drawings\n",
      "in general\n",
      " ISO Standards Handbook: Technical drawings, Volume 2: Mechanical\n",
      "engineering drawings; Construction drawings; Drawing equipment\n",
      "MENG 204 - Mechanical Drawing Lecture Notes by: Dr. Ala Hijazi\n",
      "Engineering Working Drawings Basics Page 1 of 22\n"
     ]
    }
   ],
   "source": [
    "import pdfplumber\n",
    "page=pdfplumber.open(\"Eng.pdf\")\n",
    "text=page.pages[0].extract_text()\n",
    "text=text.split(\"Codes and Standards\\n\")[1]\n",
    "print(text)"
   ]
  },
  {
   "cell_type": "code",
   "execution_count": 132,
   "metadata": {},
   "outputs": [
    {
     "data": {
      "text/plain": [
       "'\\uf0b7 The standard sizes of drawing frames for ISO sized sheets, with no filing\\nmargins, are as shown in the table:\\nTitle Block, The title block is normally placed in the bottom right of the drawing\\nframe, and it should contain the following information:\\n\\uf0b7 the name of the company or organization\\n\\uf0b7 the title of the drawing\\n\\uf0b7 the drawing number, which is generally a unique filing identifier\\n\\uf0b7 the scale\\n\\uf0b7 the drawing size\\n\\uf0b7 the angle of projection used, either first or third, generally shown\\nsymbolically\\n\\uf0b7 the signature or initials of the draftsman, checker, approving officer, and\\nissuing officer, with the respective dates\\n\\uf0b7 the material of the part\\n\\uf0b7 the revision number\\n\\uf0b7 the sheet number for multi-sheet drawings\\n\\uf0b7 other information as required (tolerances, surface finish, etc.)\\nIn addition to the information above, for drawings produced using CAD software, it\\nis highly recommended to have the following information in the title block:\\n\\uf0b7 the name of the CAD software used and its version\\n\\uf0b7 the name of the drawing file\\n\\uf0b7 the name of the source part or assembly file\\n\\uf0b7 the units of the dimensions (if the drawing is mistakenly printed on a different\\npaper size, the scale becomes meaningless)\\nRevision Table, A revision table is normally located in the upper right of the drawing\\nframe. All modifications to the drawing should be documented there.\\nMaterial or Parts List (Bill of Materials), If the drawing contains a number of parts,\\nor if it is an assembly drawing, a tabulated parts list is added to the drawing. The bill\\nof materials is usually placed at the bottom right of the drawing frame, just above\\nthe title block.\\nMENG 204 - Mechanical Drawing Lecture Notes by: Dr. Ala Hijazi\\nEngineering Working Drawings Basics Page 3 of 22'"
      ]
     },
     "execution_count": 132,
     "metadata": {},
     "output_type": "execute_result"
    }
   ],
   "source": [
    "page3=page.pages[2].extract_text()\n",
    "page3"
   ]
  },
  {
   "cell_type": "markdown",
   "metadata": {},
   "source": [
    "Task 2:CAD information in page 3"
   ]
  },
  {
   "cell_type": "markdown",
   "metadata": {},
   "source": [
    "page3"
   ]
  },
  {
   "cell_type": "code",
   "execution_count": 165,
   "metadata": {},
   "outputs": [
    {
     "data": {
      "text/plain": [
       "['\\uf0b7 The standard sizes of drawing frames for ISO sized sheets, with no filing',\n",
       " 'margins, are as shown in the table:',\n",
       " 'Title Block, The title block is normally placed in the bottom right of the drawing',\n",
       " 'frame, and it should contain the following information:',\n",
       " '\\uf0b7 the name of the company or organization',\n",
       " '\\uf0b7 the title of the drawing',\n",
       " '\\uf0b7 the drawing number, which is generally a unique filing identifier',\n",
       " '\\uf0b7 the scale',\n",
       " '\\uf0b7 the drawing size',\n",
       " '\\uf0b7 the angle of projection used, either first or third, generally shown',\n",
       " 'symbolically',\n",
       " '\\uf0b7 the signature or initials of the draftsman, checker, approving officer, and',\n",
       " 'issuing officer, with the respective dates',\n",
       " '\\uf0b7 the material of the part',\n",
       " '\\uf0b7 the revision number',\n",
       " '\\uf0b7 the sheet number for multi-sheet drawings',\n",
       " '\\uf0b7 other information as required (tolerances, surface finish, etc.)',\n",
       " 'In addition to the information above, for drawings produced using CAD software, it',\n",
       " 'is highly recommended to have the following information in the title block:',\n",
       " '\\uf0b7 the name of the CAD software used and its version',\n",
       " '\\uf0b7 the name of the drawing file',\n",
       " '\\uf0b7 the name of the source part or assembly file',\n",
       " '\\uf0b7 the units of the dimensions (if the drawing is mistakenly printed on a different',\n",
       " 'paper size, the scale becomes meaningless)',\n",
       " 'Revision Table, A revision table is normally located in the upper right of the drawing',\n",
       " 'frame. All modifications to the drawing should be documented there.',\n",
       " 'Material or Parts List (Bill of Materials), If the drawing contains a number of parts,',\n",
       " 'or if it is an assembly drawing, a tabulated parts list is added to the drawing. The bill',\n",
       " 'of materials is usually placed at the bottom right of the drawing frame, just above',\n",
       " 'the title block.',\n",
       " 'MENG 204 - Mechanical Drawing Lecture Notes by: Dr. Ala Hijazi',\n",
       " 'Engineering Working Drawings Basics Page 3 of 22']"
      ]
     },
     "execution_count": 165,
     "metadata": {},
     "output_type": "execute_result"
    }
   ],
   "source": [
    "page3.split(\"\\n\")"
   ]
  },
  {
   "cell_type": "code",
   "execution_count": 164,
   "metadata": {},
   "outputs": [
    {
     "name": "stdout",
     "output_type": "stream",
     "text": [
      "Bullet Points under 'CAD software' heading:\n",
      " the name of the CAD software used and its version\n",
      " the name of the drawing file\n",
      " the name of the source part or assembly file\n",
      " the units of the dimensions (if the drawing is mistakenly printed on a different\n"
     ]
    }
   ],
   "source": [
    "import pdfplumber\n",
    "\n",
    "def extract_bullet_points(pdf_file, page_number, heading):\n",
    "    with pdfplumber.open(pdf_file) as pdf:\n",
    "        page = pdf.pages[page_number - 1] \n",
    "        text = page.extract_text()\n",
    "        \n",
    "        start_index = text.find(heading)\n",
    "        if start_index != -1:\n",
    "            end_index = text.find('\\n\\n', start_index)  \n",
    "            relevant_text = text[start_index:end_index]\n",
    "            \n",
    "            bullet_points = [line.strip() for line in relevant_text.split('\\n') if line.strip().startswith(('\\uf0b7', '-'))]\n",
    "            return bullet_points\n",
    "\n",
    "    return []\n",
    "\n",
    "pdf_file = 'Eng.pdf'\n",
    "page_number = 3  \n",
    "heading = 'CAD software'\n",
    "bullet_points = extract_bullet_points(pdf_file, page_number, heading)\n",
    "\n",
    "print(\"Bullet Points under 'CAD software' heading:\")\n",
    "for point in bullet_points:\n",
    "    print(point)\n"
   ]
  },
  {
   "cell_type": "markdown",
   "metadata": {},
   "source": [
    "Task 3 :Printing text of page3 under  Material or Parts List(Bill of Materials)"
   ]
  },
  {
   "cell_type": "code",
   "execution_count": 154,
   "metadata": {},
   "outputs": [
    {
     "name": "stdout",
     "output_type": "stream",
     "text": [
      "Material or Parts List (Bill of Materials), If the drawing contains a number of parts,\n",
      "or if it is an assembly drawing, a tabulated parts list is added to the drawing. The bill\n",
      "of materials is usually placed at the bottom right of the drawing frame, just above\n",
      "the title block.\n",
      "MENG 204 - Mechanical Drawing Lecture Notes by: Dr. Ala Hijazi\n",
      "Engineering Working Drawings Basics Page 3 of 22\n"
     ]
    }
   ],
   "source": [
    "p=page3.split(\"\\n\")\n",
    "c=0\n",
    "for i in p:\n",
    "    if i.startswith(\"Material or Parts List (Bill of Materials), If the drawing contains a number of parts,\"):\n",
    "        c=p.index(i)\n",
    "        break\n",
    "c\n",
    "for i in range(c,len(p)):\n",
    "    print(p[i])"
   ]
  },
  {
   "cell_type": "markdown",
   "metadata": {},
   "source": [
    "#code for extract matter under Material or Parts List (Bill of Materials) until next main heading"
   ]
  },
  {
   "cell_type": "code",
   "execution_count": 162,
   "metadata": {},
   "outputs": [
    {
     "name": "stdout",
     "output_type": "stream",
     "text": [
      "68\n",
      "Material or Parts List (Bill of Materials), If the drawing contains a number of parts,\n",
      "or if it is an assembly drawing, a tabulated parts list is added to the drawing. The bill\n",
      "of materials is usually placed at the bottom right of the drawing frame, just above\n",
      "the title block.\n",
      "MENG 204 - Mechanical Drawing Lecture Notes by: Dr. Ala Hijazi\n",
      "Engineering Working Drawings Basics Page 3 of 22The bill of materials should give the following information:\n",
      " the part number\n",
      " the part name\n",
      " the quantity required\n",
      " material specifications\n",
      " the drawing number of each individual part\n",
      " other applicable information\n",
      "When the parts list is very large a separate drawing sheet may be used for the parts\n",
      "list alone.\n",
      "Zoning, A drawing may be divided up into a grid using letters and numbers. When\n",
      "zoning is used it is located inside the drawing frame. Zoning is usually used for large\n",
      "size drawing sheets where it allows easy references to various parts of the drawing\n",
      "by referencing a coordinate such as B4.\n",
      "Notes, Information other than pictorial views and dimensions necessary for\n",
      "completing a drawing is classified as “notes”. Notes are usually placed in the lower\n",
      "left corner of the drawing sheet and they are numbered consecutively downward.\n",
      "Some examples of the notes used in working drawings are as follows:\n",
      " Dimension Notes ALL DIMENSIONS APPLY AFTER SURFACE TREATMENT.\n",
      " Heat Treating Notes HEAT TREAT IN ACCORDANCE WITH standard-XXX TO\n",
      "XXX-hardness\n",
      " Joining Method Notes (welding, brazing, etc.) FUSION WELD IN ACCORDANCE\n",
      "WITH standard-XXX\n",
      " Plating and Coating Notes CADMIUM PLATE IN ACCORDANCE WITH standard-\n",
      "XXX\n",
      " Surface Preparation Notes SURFACE TO BE CLEANED AND POLISHED FOR\n",
      "VACUUM USE.\n",
      " Testing and Inspection Notes RADIOGRAPHIC INSPECTION OF ALL WELDS IN\n",
      "ACCORDANCE WITH standard-XXX\n",
      " Threaded Inserts — Cleaning and\n",
      "Installation Notes TIGHTENING TORQUE\n",
      "OF THREADED FASTENERS SHOULD BE AS\n",
      "LISTED IN TORQUE TABLE\n",
      " Miscellaneous Notes PLACE IN BAG AFTER FINAL ELECTROPOLISHING.\n",
      "MENG 204 - Mechanical Drawing Lecture Notes by: Dr. Ala Hijazi\n",
      "Engineering Working Drawings Basics Page 4 of 22\n"
     ]
    }
   ],
   "source": [
    "l=\"\"\n",
    "for i in page.pages:\n",
    "    l+=i.extract_text()\n",
    "l=l.split(\"Three-Dimensional Views\\n\")\n",
    "l=l[0].split(\"\\n\")\n",
    "c=0\n",
    "for i in l:\n",
    "    if i.startswith(\"Material or Parts List (Bill of Materials), If the drawing contains a number of parts,\"):\n",
    "        c=l.index(i)\n",
    "        break\n",
    "print(c)\n",
    "for i in range(c,len(l)):\n",
    "    print(l[i])\n",
    "\n"
   ]
  },
  {
   "cell_type": "code",
   "execution_count": 105,
   "metadata": {},
   "outputs": [
    {
     "name": "stdout",
     "output_type": "stream",
     "text": [
      "25\n",
      "\n",
      "35\n",
      "\n",
      "40\n",
      "\n",
      "35\n",
      "\n",
      "30\n",
      "\n",
      "50\n",
      "\n",
      "25\n",
      "\n",
      "3 X 4 5(cid:99) CHA M FER\n",
      "\n",
      "(cid:80)6 THRU\n",
      "(cid:88) (cid:80)12 (cid:90) 5\n",
      "2 PLCS\n",
      "\n",
      "R6\n",
      "\n",
      "30\n",
      "\n",
      "ALL DIMENSIONS\n",
      "ARE IN MILLIMETERS\n",
      "\n",
      "25\n",
      "\n",
      "80\n",
      "\n",
      "110\n",
      "\n",
      "60\n",
      "\n",
      "S H E E T   3  \n",
      "\n",
      "  O F   2 5\n",
      "\n",
      "Mount Bracket.ipt\n",
      "\n",
      "Hardware, Bracket\n",
      "\n",
      "\f\n"
     ]
    }
   ],
   "source": [
    "from pdfminer.high_level import extract_text\n",
    "\n",
    "def extract_text_pdfminer(pdf_path, page_number):\n",
    "    text = extract_text(pdf_path, page_numbers=[page_number - 1])\n",
    "    return text\n",
    "\n",
    "pdf_path = 'Auto.pdf'\n",
    "\n",
    "text = extract_text_pdfminer(pdf_path, page_number=3)\n",
    "print(text)\n"
   ]
  },
  {
   "cell_type": "code",
   "execution_count": 106,
   "metadata": {},
   "outputs": [
    {
     "name": "stdout",
     "output_type": "stream",
     "text": [
      "['30', 'A', 'A', 'R', '9', '12', '9', '9', '9', '75', '18', '7', '60', 'R15', '(cid:80)15', 'S I O', 'N', 'E', 'E  I N   M IL LI M\\nL L   D I M', 'S', 'E', 'N', 'T', 'E', 'S', 'R', 'S H E E T   2  ', '  O F   2 5', 'Fixture Block.ipt', 'Hardware, Fixture Block', '\\x0c']\n"
     ]
    }
   ],
   "source": [
    "text = extract_text_pdfminer(pdf_path, page_number=2)\n",
    "text=text.split(\"\\n\\n\")\n",
    "print(text)"
   ]
  },
  {
   "cell_type": "code",
   "execution_count": 107,
   "metadata": {},
   "outputs": [],
   "source": [
    "lis = [i for i in text if i.isnumeric() and not i.isalpha()]"
   ]
  },
  {
   "cell_type": "code",
   "execution_count": 108,
   "metadata": {},
   "outputs": [],
   "source": [
    "lis = [int(i) for i in lis]"
   ]
  },
  {
   "cell_type": "code",
   "execution_count": 109,
   "metadata": {},
   "outputs": [
    {
     "name": "stdout",
     "output_type": "stream",
     "text": [
      "[30, 9, 12, 9, 9, 9, 75, 18, 7, 60]\n"
     ]
    }
   ],
   "source": [
    "print(lis)"
   ]
  },
  {
   "cell_type": "markdown",
   "metadata": {},
   "source": [
    "Taks 4 :- width of parts present in the page 2"
   ]
  },
  {
   "cell_type": "code",
   "execution_count": 110,
   "metadata": {},
   "outputs": [
    {
     "name": "stdout",
     "output_type": "stream",
     "text": [
      "width of last item is  60\n"
     ]
    }
   ],
   "source": [
    "#width of last item in page 2\n",
    "print(\"width of last item is \",lis[-1])"
   ]
  },
  {
   "cell_type": "code",
   "execution_count": 111,
   "metadata": {},
   "outputs": [
    {
     "name": "stdout",
     "output_type": "stream",
     "text": [
      "width of first item is  75\n"
     ]
    }
   ],
   "source": [
    "#width of frst item in page 2\n",
    "print(\"width of first item is \",lis[-4])"
   ]
  },
  {
   "cell_type": "markdown",
   "metadata": {},
   "source": [
    "Task 5 : Width of two holes present in page 3"
   ]
  },
  {
   "cell_type": "code",
   "execution_count": 112,
   "metadata": {},
   "outputs": [],
   "source": [
    "page3=extract_text_pdfminer(pdf_path, page_number=3)"
   ]
  },
  {
   "cell_type": "code",
   "execution_count": 113,
   "metadata": {},
   "outputs": [
    {
     "name": "stdout",
     "output_type": "stream",
     "text": [
      "25\n",
      "\n",
      "35\n",
      "\n",
      "40\n",
      "\n",
      "35\n",
      "\n",
      "30\n",
      "\n",
      "50\n",
      "\n",
      "25\n",
      "\n",
      "3 X 4 5(cid:99) CHA M FER\n",
      "\n",
      "(cid:80)6 THRU\n",
      "(cid:88) (cid:80)12 (cid:90) 5\n",
      "2 PLCS\n",
      "\n",
      "R6\n",
      "\n",
      "30\n",
      "\n",
      "ALL DIMENSIONS\n",
      "ARE IN MILLIMETERS\n",
      "\n",
      "25\n",
      "\n",
      "80\n",
      "\n",
      "110\n",
      "\n",
      "60\n",
      "\n",
      "S H E E T   3  \n",
      "\n",
      "  O F   2 5\n",
      "\n",
      "Mount Bracket.ipt\n",
      "\n",
      "Hardware, Bracket\n",
      "\n",
      "\f\n"
     ]
    }
   ],
   "source": [
    "page3\n",
    "print(page3)\n",
    "page3=page3.split(\"\\n\\n\")\n"
   ]
  },
  {
   "cell_type": "code",
   "execution_count": 114,
   "metadata": {},
   "outputs": [
    {
     "name": "stdout",
     "output_type": "stream",
     "text": [
      "['25', '35', '40', '35', '30', '50', '25', '3 X 4 5(cid:99) CHA M FER', '(cid:80)6 THRU\\n(cid:88) (cid:80)12 (cid:90) 5\\n2 PLCS', 'R6', '30', 'ALL DIMENSIONS\\nARE IN MILLIMETERS', '25', '80', '110', '60', 'S H E E T   3  ', '  O F   2 5', 'Mount Bracket.ipt', 'Hardware, Bracket', '\\x0c']\n"
     ]
    }
   ],
   "source": [
    "print(page3)\n",
    "li=[i for i in page3 if i.isnumeric() and not i.isalpha()]"
   ]
  },
  {
   "cell_type": "code",
   "execution_count": 115,
   "metadata": {},
   "outputs": [
    {
     "name": "stdout",
     "output_type": "stream",
     "text": [
      "['25', '35', '40', '35', '30', '50', '25', '30', '25', '80', '110', '60']\n"
     ]
    }
   ],
   "source": [
    "print(li)"
   ]
  },
  {
   "cell_type": "code",
   "execution_count": 116,
   "metadata": {},
   "outputs": [
    {
     "name": "stdout",
     "output_type": "stream",
     "text": [
      "width of two holes is  50\n"
     ]
    }
   ],
   "source": [
    "#width of two holes is :\n",
    "print(\"width of two holes is \",li[5])"
   ]
  },
  {
   "cell_type": "markdown",
   "metadata": {},
   "source": [
    "#Task 6: depth of chamber"
   ]
  },
  {
   "cell_type": "code",
   "execution_count": 117,
   "metadata": {},
   "outputs": [
    {
     "name": "stdout",
     "output_type": "stream",
     "text": [
      "Depth if chamber is: 25\n"
     ]
    }
   ],
   "source": [
    "print(\"Depth if chamber is:\",li[0])"
   ]
  },
  {
   "cell_type": "markdown",
   "metadata": {},
   "source": [
    "#Task 7\n"
   ]
  },
  {
   "cell_type": "code",
   "execution_count": 199,
   "metadata": {},
   "outputs": [
    {
     "name": "stdout",
     "output_type": "stream",
     "text": [
      "Saved high-resolution image to high_res_extracted_image_page_2_img_1.png\n",
      "Saved high-resolution image to high_res_extracted_image_page_2_img_2.png\n"
     ]
    }
   ],
   "source": [
    "import pdfplumber\n",
    "from PIL import Image\n",
    "import io\n",
    "\n",
    "# Open the PDF file\n",
    "with pdfplumber.open(\"Eng.pdf\") as pdf:\n",
    "    # Select the specific page you want to extract images from (index 0 for the first page)\n",
    "    page_number = 1\n",
    "    page = pdf.pages[page_number]\n",
    "    \n",
    "    # Extract images from the page\n",
    "    images = page.images\n",
    "    \n",
    "    # Loop through each image found on the page\n",
    "    for img_index, img in enumerate(images):\n",
    "        # Extract the image object and its bbox\n",
    "        x0, y0, x1, y1 = img['x0'], img['top'], img['x1'], img['bottom']\n",
    "        extracted_image = page.within_bbox((x0, y0, x1, y1)).to_image(resolution=600)  # Increase the resolution for higher quality\n",
    "        \n",
    "        # Convert the extracted image object to a PIL image\n",
    "        img_bytes = io.BytesIO()\n",
    "        extracted_image.original.save(img_bytes, format='PNG')\n",
    "        img_bytes = img_bytes.getvalue()\n",
    "        pil_image = Image.open(io.BytesIO(img_bytes))\n",
    "        \n",
    "        # Save the image to a file\n",
    "        image_path = f\"high_res_extracted_image_page_{page_number + 1}_img_{img_index + 1}.png\"\n",
    "        pil_image.save(image_path)\n",
    "        print(f\"Saved high-resolution image to {image_path}\")\n"
   ]
  },
  {
   "cell_type": "code",
   "execution_count": 217,
   "metadata": {},
   "outputs": [
    {
     "name": "stdout",
     "output_type": "stream",
     "text": [
      "Saved high-quality image to high_quality_image_page_2_img_1.png\n",
      "Saved high-quality image to high_quality_image_page_2_img_2.png\n"
     ]
    }
   ],
   "source": [
    "import pdfplumber\n",
    "from PIL import Image\n",
    "import io\n",
    "\n",
    "# Open the PDF file\n",
    "with pdfplumber.open(\"Eng.pdf\") as pdf:\n",
    "    # Select the specific page you want to extract images from (index 0 for the first page)\n",
    "    page_number = 1\n",
    "    page = pdf.pages[page_number]\n",
    "    \n",
    "    # Extract images from the page\n",
    "    images = page.images\n",
    "    \n",
    "    # Loop through each image found on the page\n",
    "    for img_index, img in enumerate(images):\n",
    "        # Get the image's bounding box\n",
    "        img_bbox = (img['x0'], img['top'], img['x1'], img['bottom'])\n",
    "        \n",
    "        # Extract the image as a PIL Image\n",
    "        pil_image = page.within_bbox(img_bbox).to_image(resolution=600).original\n",
    "\n",
    "        # Save the image with high resolution\n",
    "        image_path = f\"high_quality_image_page_{page_number + 1}_img_{img_index + 1}.png\"\n",
    "        pil_image.save(image_path, format='PNG')\n",
    "        print(f\"Saved high-quality image to {image_path}\")\n"
   ]
  },
  {
   "cell_type": "code",
   "execution_count": 221,
   "metadata": {},
   "outputs": [
    {
     "name": "stdout",
     "output_type": "stream",
     "text": [
      "Saved enhanced image to enhanced_image_page_2_img_1.png\n",
      "Saved enhanced image to enhanced_image_page_2_img_2.png\n"
     ]
    }
   ],
   "source": [
    "import pdfplumber\n",
    "from PIL import Image, ImageEnhance, ImageFilter\n",
    "import io\n",
    "\n",
    "# Open the PDF file\n",
    "with pdfplumber.open(\"Eng.pdf\") as pdf:\n",
    "    # Select the specific page you want to extract images from (index 0 for the first page)\n",
    "    page_number = 1\n",
    "    page = pdf.pages[page_number]\n",
    "    \n",
    "    # Extract images from the page\n",
    "    images = page.images\n",
    "    \n",
    "    # Loop through each image found on the page\n",
    "    for img_index, img in enumerate(images):\n",
    "        # Get the image's bounding box\n",
    "        img_bbox = (img['x0'], img['top'], img['x1'], img['bottom'])\n",
    "        \n",
    "        # Render the page as an image\n",
    "        pil_image = page.to_image(resolution=600).original\n",
    "        \n",
    "        # Crop the image using the bounding box\n",
    "        cropped_image = pil_image.crop(img_bbox)\n",
    "        \n",
    "        # Convert the image to grayscale\n",
    "        gray_image = cropped_image.convert(\"L\")\n",
    "        \n",
    "        # Enhance the image contrast\n",
    "        contrast_enhancer = ImageEnhance.Contrast(gray_image)\n",
    "        enhanced_image = contrast_enhancer.enhance(2)  # Adjust the contrast level as needed\n",
    "        \n",
    "        # Sharpen the image\n",
    "        sharpened_image = enhanced_image.filter(ImageFilter.SHARPEN)\n",
    "        \n",
    "        # Save the enhanced image with high resolution\n",
    "        image_path = f\"enhanced_image_page_{page_number + 1}_img_{img_index + 1}.png\"\n",
    "        sharpened_image.save(image_path, format='PNG')\n",
    "        print(f\"Saved enhanced image to {image_path}\")\n"
   ]
  },
  {
   "cell_type": "code",
   "execution_count": 230,
   "metadata": {},
   "outputs": [
    {
     "name": "stdout",
     "output_type": "stream",
     "text": [
      "Extracted Text from tt.jpg:\n",
      "|i] ons or | OCSCAIOTION\n",
      "PASS NO\n",
      "ee Se\n",
      "\n",
      "UNLESS OTHM@AWISE ORN 1:1' a IKL\n",
      "STATED ALL DIMENSIONS OED fier stave Sil: AWB [HANG OP FIRM)\n",
      "IH MILLIMETRES\n",
      "\n",
      "MATERIAL\n",
      "ARGUL AE [TITLE OF OWG.)\n",
      "ANGULAR! CAST STEQL\n",
      "\n",
      "ORG\n",
      "a Ro’ Azecat\n",
      "\n",
      "l : = | 6\n",
      "\n",
      ">\n",
      "\n",
      "|\n",
      "|\n",
      "|\n",
      "|\n",
      "|\n",
      "!\n",
      "t—\n",
      "|\n",
      "|\n",
      "|\n",
      "|\n",
      "|\n",
      "|\n",
      "|\n",
      "|\n",
      "|\n",
      "|\n",
      "|\n",
      "|\n",
      "|\n",
      "|\n",
      "l hes\n",
      "|\n",
      "|\n",
      "|\n",
      "|\n",
      "|\n",
      "|\n",
      "|\n",
      "|\n",
      "|\n",
      "|\n",
      "|\n",
      "|\n",
      "|\n",
      "|\n",
      "|\n",
      "|\n",
      "|\n",
      "|\n",
      "i}\n",
      "|\n",
      "i]\n",
      "|\n",
      "i\n",
      "|\n",
      "j—\n",
      "|\n",
      "|\n",
      "i]\n",
      "|\n",
      "|\n",
      "|.\n",
      "ees\n",
      "|\n",
      "|\n",
      "|\n",
      "i\n",
      "|\n",
      "|\n",
      "|\n",
      "|\n",
      "|—\n",
      "i]\n",
      "|\n",
      "|\n",
      "|\n",
      "|\n",
      "|\n",
      "|\n",
      ":\n",
      "|\n",
      "|\n",
      "i}\n",
      "|\n",
      "1\n",
      "|\n",
      "i]\n",
      "|\n",
      "|\n",
      "|\n",
      "|\n",
      "|\n",
      "|\n",
      "|\n",
      "|\n",
      "|\n",
      "|\n",
      "i\n",
      "|\n",
      "|\n",
      "|\n",
      "|\n",
      "|\n",
      "—\n",
      "\n",
      "Saved extracted text to 'extracted_text_from_image.txt'\n"
     ]
    }
   ],
   "source": [
    "import pytesseract\n",
    "from PIL import Image\n",
    "\n",
    "# Path to the Tesseract executable (adjust this based on your OS and installation)\n",
    "# On Windows, you might need to specify the path to the tesseract executable:\n",
    "# pytesseract.pytesseract.tesseract_cmd = r'C:\\Program Files\\Tesseract-OCR\\tesseract.exe'\n",
    "\n",
    "# Path to the saved image you want to extract text from\n",
    "image_path = \"tt.jpg\"\n",
    "\n",
    "# Open the image using PIL\n",
    "image = Image.open(image_path)\n",
    "\n",
    "# Use Tesseract to extract text from the image\n",
    "extracted_text = pytesseract.image_to_string(image)\n",
    "\n",
    "# Print the extracted text\n",
    "print(f\"Extracted Text from {image_path}:\")\n",
    "print(extracted_text)\n",
    "\n",
    "# Optionally, save the extracted text to a file\n",
    "with open(\"extracted_text_from_image.txt\", \"w\", encoding=\"utf-8\") as text_file:\n",
    "    text_file.write(extracted_text)\n",
    "    print(\"Saved extracted text to 'extracted_text_from_image.txt'\")\n"
   ]
  },
  {
   "cell_type": "code",
   "execution_count": 228,
   "metadata": {},
   "outputs": [
    {
     "name": "stdout",
     "output_type": "stream",
     "text": [
      "Preprocessed image saved at: preprocessed_image.png\n",
      "Extracted Table Data:\n",
      "['if', ',', '=e.', '>', '———=', 'ss', '=', '=', 'SS']\n",
      "['NES', 'ERLPLION', 'CATE', '_|']\n",
      "['a']\n",
      "['|']\n",
      "['|']\n",
      "['|', '¢']\n",
      "['|']\n",
      "['|', 'one', '38', 'OGSERIOT', '10%']\n",
      "['ee']\n",
      "['STAYED', 'ALL', 'OINERNSIONS', ';', 'neP—', '$:1:70', 'awall', 'fang', 'ef', 'eee']\n",
      "['4)', \"[eenaiee'\", 'HRTERIAT', '—', 'TILE', 'OF', 'OW6.!']\n",
      "['ANGULAR!', 'AST', 'STeUl', '___________', '—']\n",
      "['i', 'a', 'NOY', 'SCALE', 'Wea', 'LNG', 'a']\n",
      "['AS', 'MACHINED', 'Spare', 'u2_', 'i', 'ss', '[SHEEY', '1', 'et', '1']\n"
     ]
    }
   ],
   "source": [
    "import pytesseract\n",
    "from PIL import Image\n",
    "import cv2\n",
    "import numpy as np\n",
    "\n",
    "# Path to the Tesseract-OCR executable\n",
    "pytesseract.pytesseract.tesseract_cmd = r\"C:\\Program Files\\Tesseract-OCR\\tesseract.exe\"  # Change this to your Tesseract-OCR installation path\n",
    "\n",
    "# Path to the image containing the table\n",
    "image_path = \"up.jpg\"  # Change this to your saved image path\n",
    "\n",
    "# Open the image using OpenCV\n",
    "image = cv2.imread(image_path)\n",
    "\n",
    "# Resize the image to make the text larger\n",
    "scale_percent = 200  # Scale the image by 200%\n",
    "width = int(image.shape[1] * scale_percent / 100)\n",
    "height = int(image.shape[0] * scale_percent / 100)\n",
    "dim = (width, height)\n",
    "resized_image = cv2.resize(image, dim, interpolation=cv2.INTER_CUBIC)\n",
    "\n",
    "# Convert the image to grayscale\n",
    "gray_image = cv2.cvtColor(resized_image, cv2.COLOR_BGR2GRAY)\n",
    "\n",
    "# Apply Gaussian blur to reduce noise and improve text recognition\n",
    "blurred_image = cv2.GaussianBlur(gray_image, (5, 5), 0)\n",
    "\n",
    "# Apply adaptive thresholding to create a binary image\n",
    "thresh_image = cv2.adaptiveThreshold(blurred_image, 255, cv2.ADAPTIVE_THRESH_GAUSSIAN_C, cv2.THRESH_BINARY, 11, 2)\n",
    "\n",
    "# Save the preprocessed image for reference\n",
    "preprocessed_image_path = \"preprocessed_image.png\"\n",
    "cv2.imwrite(preprocessed_image_path, thresh_image)\n",
    "print(f\"Preprocessed image saved at: {preprocessed_image_path}\")\n",
    "\n",
    "# Use pytesseract to extract text from the preprocessed image\n",
    "custom_config = r'--oem 3 --psm 6'\n",
    "text = pytesseract.image_to_string(thresh_image, config=custom_config)\n",
    "\n",
    "# Split the text into lines and cells\n",
    "lines = text.split('\\n')\n",
    "table_data = [line.split() for line in lines if line.strip()]\n",
    "\n",
    "print(\"Extracted Table Data:\")\n",
    "for row in table_data:\n",
    "    print(row)\n"
   ]
  },
  {
   "cell_type": "code",
   "execution_count": null,
   "metadata": {},
   "outputs": [],
   "source": []
  }
 ],
 "metadata": {
  "kernelspec": {
   "display_name": "Python 3",
   "language": "python",
   "name": "python3"
  },
  "language_info": {
   "codemirror_mode": {
    "name": "ipython",
    "version": 3
   },
   "file_extension": ".py",
   "mimetype": "text/x-python",
   "name": "python",
   "nbconvert_exporter": "python",
   "pygments_lexer": "ipython3",
   "version": "3.10.0"
  }
 },
 "nbformat": 4,
 "nbformat_minor": 2
}
