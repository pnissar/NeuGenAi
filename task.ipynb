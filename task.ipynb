{
 "cells": [
  {
   "cell_type": "code",
   "execution_count": 2,
   "metadata": {},
   "outputs": [
    {
     "name": "stdout",
     "output_type": "stream",
     "text": [
      "Defaulting to user installation because normal site-packages is not writeable\n",
      "Requirement already satisfied: pdfminer.six in c:\\users\\pinja\\appdata\\roaming\\python\\python310\\site-packages (20231228)\n",
      "Requirement already satisfied: charset-normalizer>=2.0.0 in c:\\users\\pinja\\appdata\\roaming\\python\\python310\\site-packages (from pdfminer.six) (3.4.0)\n",
      "Requirement already satisfied: cryptography>=36.0.0 in c:\\users\\pinja\\appdata\\roaming\\python\\python310\\site-packages (from pdfminer.six) (44.0.0)\n",
      "Requirement already satisfied: cffi>=1.12 in c:\\users\\pinja\\appdata\\roaming\\python\\python310\\site-packages (from cryptography>=36.0.0->pdfminer.six) (1.17.1)\n",
      "Requirement already satisfied: pycparser in c:\\users\\pinja\\appdata\\roaming\\python\\python310\\site-packages (from cffi>=1.12->cryptography>=36.0.0->pdfminer.six) (2.22)\n",
      "Note: you may need to restart the kernel to use updated packages.\n"
     ]
    }
   ],
   "source": [
    "pip install pdfminer.six"
   ]
  },
  {
   "cell_type": "markdown",
   "metadata": {},
   "source": [
    "#Task 1: extracting text Under Codes and Standers"
   ]
  },
  {
   "cell_type": "markdown",
   "metadata": {},
   "source": [
    "#method 1 if codes and stander are in only one page"
   ]
  },
  {
   "cell_type": "code",
   "execution_count": 128,
   "metadata": {},
   "outputs": [
    {
     "name": "stdout",
     "output_type": "stream",
     "text": [
      "Codes and standards are made to organize and unify the engineering work.\n",
      "Imagine; what if there was no standard for bolts?\n",
      " A code is a set of specifications for the analysis, design, manufacture, and\n",
      "construction of something.\n",
      " A standard is a set of specifications for parts, materials, or processes intended\n",
      "to achieve uniformity, efficiency and specific quality.\n",
      "Examples of the organizations that establish standards and design codes: ISO , AISI,\n",
      "SAE, ASTM, ASME, ANSI, DIN.\n",
      "There are many different standards related to technical drawings.\n",
      "The ISO standards for technical drawings are found in a two volumes handbook:\n",
      " ISO Standards Handbook: Technical drawings, Volume 1: Technical drawings\n",
      "in general\n",
      " ISO Standards Handbook: Technical drawings, Volume 2: Mechanical\n",
      "engineering drawings; Construction drawings; Drawing equipment\n",
      "MENG 204 - Mechanical Drawing Lecture Notes by: Dr. Ala Hijazi\n",
      "Engineering Working Drawings Basics Page 1 of 22\n"
     ]
    }
   ],
   "source": [
    "import pdfplumber\n",
    "page=pdfplumber.open(\"Eng.pdf\")\n",
    "text=page.pages[0].extract_text()\n",
    "text=text.split(\"Codes and Standards\\n\")[1]\n",
    "print(text)"
   ]
  },
  {
   "cell_type": "code",
   "execution_count": 132,
   "metadata": {},
   "outputs": [
    {
     "data": {
      "text/plain": [
       "'\\uf0b7 The standard sizes of drawing frames for ISO sized sheets, with no filing\\nmargins, are as shown in the table:\\nTitle Block, The title block is normally placed in the bottom right of the drawing\\nframe, and it should contain the following information:\\n\\uf0b7 the name of the company or organization\\n\\uf0b7 the title of the drawing\\n\\uf0b7 the drawing number, which is generally a unique filing identifier\\n\\uf0b7 the scale\\n\\uf0b7 the drawing size\\n\\uf0b7 the angle of projection used, either first or third, generally shown\\nsymbolically\\n\\uf0b7 the signature or initials of the draftsman, checker, approving officer, and\\nissuing officer, with the respective dates\\n\\uf0b7 the material of the part\\n\\uf0b7 the revision number\\n\\uf0b7 the sheet number for multi-sheet drawings\\n\\uf0b7 other information as required (tolerances, surface finish, etc.)\\nIn addition to the information above, for drawings produced using CAD software, it\\nis highly recommended to have the following information in the title block:\\n\\uf0b7 the name of the CAD software used and its version\\n\\uf0b7 the name of the drawing file\\n\\uf0b7 the name of the source part or assembly file\\n\\uf0b7 the units of the dimensions (if the drawing is mistakenly printed on a different\\npaper size, the scale becomes meaningless)\\nRevision Table, A revision table is normally located in the upper right of the drawing\\nframe. All modifications to the drawing should be documented there.\\nMaterial or Parts List (Bill of Materials), If the drawing contains a number of parts,\\nor if it is an assembly drawing, a tabulated parts list is added to the drawing. The bill\\nof materials is usually placed at the bottom right of the drawing frame, just above\\nthe title block.\\nMENG 204 - Mechanical Drawing Lecture Notes by: Dr. Ala Hijazi\\nEngineering Working Drawings Basics Page 3 of 22'"
      ]
     },
     "execution_count": 132,
     "metadata": {},
     "output_type": "execute_result"
    }
   ],
   "source": [
    "page3=page.pages[2].extract_text()\n",
    "page3"
   ]
  },
  {
   "cell_type": "markdown",
   "metadata": {},
   "source": [
    "#Task 2:CAD information in page 3"
   ]
  },
  {
   "cell_type": "markdown",
   "metadata": {},
   "source": [
    "#page3"
   ]
  },
  {
   "cell_type": "code",
   "execution_count": 165,
   "metadata": {},
   "outputs": [
    {
     "data": {
      "text/plain": [
       "['\\uf0b7 The standard sizes of drawing frames for ISO sized sheets, with no filing',\n",
       " 'margins, are as shown in the table:',\n",
       " 'Title Block, The title block is normally placed in the bottom right of the drawing',\n",
       " 'frame, and it should contain the following information:',\n",
       " '\\uf0b7 the name of the company or organization',\n",
       " '\\uf0b7 the title of the drawing',\n",
       " '\\uf0b7 the drawing number, which is generally a unique filing identifier',\n",
       " '\\uf0b7 the scale',\n",
       " '\\uf0b7 the drawing size',\n",
       " '\\uf0b7 the angle of projection used, either first or third, generally shown',\n",
       " 'symbolically',\n",
       " '\\uf0b7 the signature or initials of the draftsman, checker, approving officer, and',\n",
       " 'issuing officer, with the respective dates',\n",
       " '\\uf0b7 the material of the part',\n",
       " '\\uf0b7 the revision number',\n",
       " '\\uf0b7 the sheet number for multi-sheet drawings',\n",
       " '\\uf0b7 other information as required (tolerances, surface finish, etc.)',\n",
       " 'In addition to the information above, for drawings produced using CAD software, it',\n",
       " 'is highly recommended to have the following information in the title block:',\n",
       " '\\uf0b7 the name of the CAD software used and its version',\n",
       " '\\uf0b7 the name of the drawing file',\n",
       " '\\uf0b7 the name of the source part or assembly file',\n",
       " '\\uf0b7 the units of the dimensions (if the drawing is mistakenly printed on a different',\n",
       " 'paper size, the scale becomes meaningless)',\n",
       " 'Revision Table, A revision table is normally located in the upper right of the drawing',\n",
       " 'frame. All modifications to the drawing should be documented there.',\n",
       " 'Material or Parts List (Bill of Materials), If the drawing contains a number of parts,',\n",
       " 'or if it is an assembly drawing, a tabulated parts list is added to the drawing. The bill',\n",
       " 'of materials is usually placed at the bottom right of the drawing frame, just above',\n",
       " 'the title block.',\n",
       " 'MENG 204 - Mechanical Drawing Lecture Notes by: Dr. Ala Hijazi',\n",
       " 'Engineering Working Drawings Basics Page 3 of 22']"
      ]
     },
     "execution_count": 165,
     "metadata": {},
     "output_type": "execute_result"
    }
   ],
   "source": [
    "page3.split(\"\\n\")"
   ]
  },
  {
   "cell_type": "code",
   "execution_count": 164,
   "metadata": {},
   "outputs": [
    {
     "name": "stdout",
     "output_type": "stream",
     "text": [
      "Bullet Points under 'CAD software' heading:\n",
      " the name of the CAD software used and its version\n",
      " the name of the drawing file\n",
      " the name of the source part or assembly file\n",
      " the units of the dimensions (if the drawing is mistakenly printed on a different\n"
     ]
    }
   ],
   "source": [
    "import pdfplumber\n",
    "\n",
    "def extract_bullet_points(pdf_file, page_number, heading):\n",
    "    with pdfplumber.open(pdf_file) as pdf:\n",
    "        page = pdf.pages[page_number - 1] \n",
    "        text = page.extract_text()\n",
    "        \n",
    "        start_index = text.find(heading)\n",
    "        if start_index != -1:\n",
    "            end_index = text.find('\\n\\n', start_index)  \n",
    "            relevant_text = text[start_index:end_index]\n",
    "            \n",
    "            bullet_points = [line.strip() for line in relevant_text.split('\\n') if line.strip().startswith(('\\uf0b7', '-'))]\n",
    "            return bullet_points\n",
    "\n",
    "    return []\n",
    "\n",
    "pdf_file = 'Eng.pdf'\n",
    "page_number = 3  \n",
    "heading = 'CAD software'\n",
    "bullet_points = extract_bullet_points(pdf_file, page_number, heading)\n",
    "\n",
    "print(\"Bullet Points under 'CAD software' heading:\")\n",
    "for point in bullet_points:\n",
    "    print(point)\n"
   ]
  },
  {
   "cell_type": "markdown",
   "metadata": {},
   "source": [
    "#Task 3 :Printing text of page3 under  Material or Parts List(Bill of Materials)"
   ]
  },
  {
   "cell_type": "code",
   "execution_count": 154,
   "metadata": {},
   "outputs": [
    {
     "name": "stdout",
     "output_type": "stream",
     "text": [
      "Material or Parts List (Bill of Materials), If the drawing contains a number of parts,\n",
      "or if it is an assembly drawing, a tabulated parts list is added to the drawing. The bill\n",
      "of materials is usually placed at the bottom right of the drawing frame, just above\n",
      "the title block.\n",
      "MENG 204 - Mechanical Drawing Lecture Notes by: Dr. Ala Hijazi\n",
      "Engineering Working Drawings Basics Page 3 of 22\n"
     ]
    }
   ],
   "source": [
    "p=page3.split(\"\\n\")\n",
    "c=0\n",
    "for i in p:\n",
    "    if i.startswith(\"Material or Parts List (Bill of Materials), If the drawing contains a number of parts,\"):\n",
    "        c=p.index(i)\n",
    "        break\n",
    "c\n",
    "for i in range(c,len(p)):\n",
    "    print(p[i])"
   ]
  },
  {
   "cell_type": "markdown",
   "metadata": {},
   "source": [
    "#code for extract matter under Material or Parts List (Bill of Materials) until next main heading"
   ]
  },
  {
   "cell_type": "code",
   "execution_count": 162,
   "metadata": {},
   "outputs": [
    {
     "name": "stdout",
     "output_type": "stream",
     "text": [
      "68\n",
      "Material or Parts List (Bill of Materials), If the drawing contains a number of parts,\n",
      "or if it is an assembly drawing, a tabulated parts list is added to the drawing. The bill\n",
      "of materials is usually placed at the bottom right of the drawing frame, just above\n",
      "the title block.\n",
      "MENG 204 - Mechanical Drawing Lecture Notes by: Dr. Ala Hijazi\n",
      "Engineering Working Drawings Basics Page 3 of 22The bill of materials should give the following information:\n",
      " the part number\n",
      " the part name\n",
      " the quantity required\n",
      " material specifications\n",
      " the drawing number of each individual part\n",
      " other applicable information\n",
      "When the parts list is very large a separate drawing sheet may be used for the parts\n",
      "list alone.\n",
      "Zoning, A drawing may be divided up into a grid using letters and numbers. When\n",
      "zoning is used it is located inside the drawing frame. Zoning is usually used for large\n",
      "size drawing sheets where it allows easy references to various parts of the drawing\n",
      "by referencing a coordinate such as B4.\n",
      "Notes, Information other than pictorial views and dimensions necessary for\n",
      "completing a drawing is classified as “notes”. Notes are usually placed in the lower\n",
      "left corner of the drawing sheet and they are numbered consecutively downward.\n",
      "Some examples of the notes used in working drawings are as follows:\n",
      " Dimension Notes ALL DIMENSIONS APPLY AFTER SURFACE TREATMENT.\n",
      " Heat Treating Notes HEAT TREAT IN ACCORDANCE WITH standard-XXX TO\n",
      "XXX-hardness\n",
      " Joining Method Notes (welding, brazing, etc.) FUSION WELD IN ACCORDANCE\n",
      "WITH standard-XXX\n",
      " Plating and Coating Notes CADMIUM PLATE IN ACCORDANCE WITH standard-\n",
      "XXX\n",
      " Surface Preparation Notes SURFACE TO BE CLEANED AND POLISHED FOR\n",
      "VACUUM USE.\n",
      " Testing and Inspection Notes RADIOGRAPHIC INSPECTION OF ALL WELDS IN\n",
      "ACCORDANCE WITH standard-XXX\n",
      " Threaded Inserts — Cleaning and\n",
      "Installation Notes TIGHTENING TORQUE\n",
      "OF THREADED FASTENERS SHOULD BE AS\n",
      "LISTED IN TORQUE TABLE\n",
      " Miscellaneous Notes PLACE IN BAG AFTER FINAL ELECTROPOLISHING.\n",
      "MENG 204 - Mechanical Drawing Lecture Notes by: Dr. Ala Hijazi\n",
      "Engineering Working Drawings Basics Page 4 of 22\n"
     ]
    }
   ],
   "source": [
    "l=\"\"\n",
    "for i in page.pages:\n",
    "    l+=i.extract_text()\n",
    "l=l.split(\"Three-Dimensional Views\\n\")\n",
    "l=l[0].split(\"\\n\")\n",
    "c=0\n",
    "for i in l:\n",
    "    if i.startswith(\"Material or Parts List (Bill of Materials), If the drawing contains a number of parts,\"):\n",
    "        c=l.index(i)\n",
    "        break\n",
    "print(c)\n",
    "for i in range(c,len(l)):\n",
    "    print(l[i])\n",
    "\n"
   ]
  },
  {
   "cell_type": "code",
   "execution_count": 105,
   "metadata": {},
   "outputs": [
    {
     "name": "stdout",
     "output_type": "stream",
     "text": [
      "25\n",
      "\n",
      "35\n",
      "\n",
      "40\n",
      "\n",
      "35\n",
      "\n",
      "30\n",
      "\n",
      "50\n",
      "\n",
      "25\n",
      "\n",
      "3 X 4 5(cid:99) CHA M FER\n",
      "\n",
      "(cid:80)6 THRU\n",
      "(cid:88) (cid:80)12 (cid:90) 5\n",
      "2 PLCS\n",
      "\n",
      "R6\n",
      "\n",
      "30\n",
      "\n",
      "ALL DIMENSIONS\n",
      "ARE IN MILLIMETERS\n",
      "\n",
      "25\n",
      "\n",
      "80\n",
      "\n",
      "110\n",
      "\n",
      "60\n",
      "\n",
      "S H E E T   3  \n",
      "\n",
      "  O F   2 5\n",
      "\n",
      "Mount Bracket.ipt\n",
      "\n",
      "Hardware, Bracket\n",
      "\n",
      "\f\n"
     ]
    }
   ],
   "source": [
    "from pdfminer.high_level import extract_text\n",
    "\n",
    "def extract_text_pdfminer(pdf_path, page_number):\n",
    "    text = extract_text(pdf_path, page_numbers=[page_number - 1])\n",
    "    return text\n",
    "\n",
    "pdf_path = 'Auto.pdf'\n",
    "\n",
    "text = extract_text_pdfminer(pdf_path, page_number=3)\n",
    "print(text)\n"
   ]
  },
  {
   "cell_type": "code",
   "execution_count": 106,
   "metadata": {},
   "outputs": [
    {
     "name": "stdout",
     "output_type": "stream",
     "text": [
      "['30', 'A', 'A', 'R', '9', '12', '9', '9', '9', '75', '18', '7', '60', 'R15', '(cid:80)15', 'S I O', 'N', 'E', 'E  I N   M IL LI M\\nL L   D I M', 'S', 'E', 'N', 'T', 'E', 'S', 'R', 'S H E E T   2  ', '  O F   2 5', 'Fixture Block.ipt', 'Hardware, Fixture Block', '\\x0c']\n"
     ]
    }
   ],
   "source": [
    "text = extract_text_pdfminer(pdf_path, page_number=2)\n",
    "text=text.split(\"\\n\\n\")\n",
    "print(text)"
   ]
  },
  {
   "cell_type": "code",
   "execution_count": 107,
   "metadata": {},
   "outputs": [],
   "source": [
    "lis = [i for i in text if i.isnumeric() and not i.isalpha()]"
   ]
  },
  {
   "cell_type": "code",
   "execution_count": 108,
   "metadata": {},
   "outputs": [],
   "source": [
    "lis = [int(i) for i in lis]"
   ]
  },
  {
   "cell_type": "code",
   "execution_count": 109,
   "metadata": {},
   "outputs": [
    {
     "name": "stdout",
     "output_type": "stream",
     "text": [
      "[30, 9, 12, 9, 9, 9, 75, 18, 7, 60]\n"
     ]
    }
   ],
   "source": [
    "print(lis)"
   ]
  },
  {
   "cell_type": "markdown",
   "metadata": {},
   "source": [
    "#Taks 4 :- width of parts present in the page 2"
   ]
  },
  {
   "cell_type": "code",
   "execution_count": 110,
   "metadata": {},
   "outputs": [
    {
     "name": "stdout",
     "output_type": "stream",
     "text": [
      "width of last item is  60\n"
     ]
    }
   ],
   "source": [
    "#width of last item in page 2\n",
    "print(\"width of last item is \",lis[-1])"
   ]
  },
  {
   "cell_type": "code",
   "execution_count": 111,
   "metadata": {},
   "outputs": [
    {
     "name": "stdout",
     "output_type": "stream",
     "text": [
      "width of first item is  75\n"
     ]
    }
   ],
   "source": [
    "#width of frst item in page 2\n",
    "print(\"width of first item is \",lis[-4])"
   ]
  },
  {
   "cell_type": "markdown",
   "metadata": {},
   "source": [
    "#Task 5 : Width of two holes present in page 3"
   ]
  },
  {
   "cell_type": "code",
   "execution_count": 112,
   "metadata": {},
   "outputs": [],
   "source": [
    "page3=extract_text_pdfminer(pdf_path, page_number=3)"
   ]
  },
  {
   "cell_type": "code",
   "execution_count": 113,
   "metadata": {},
   "outputs": [
    {
     "name": "stdout",
     "output_type": "stream",
     "text": [
      "25\n",
      "\n",
      "35\n",
      "\n",
      "40\n",
      "\n",
      "35\n",
      "\n",
      "30\n",
      "\n",
      "50\n",
      "\n",
      "25\n",
      "\n",
      "3 X 4 5(cid:99) CHA M FER\n",
      "\n",
      "(cid:80)6 THRU\n",
      "(cid:88) (cid:80)12 (cid:90) 5\n",
      "2 PLCS\n",
      "\n",
      "R6\n",
      "\n",
      "30\n",
      "\n",
      "ALL DIMENSIONS\n",
      "ARE IN MILLIMETERS\n",
      "\n",
      "25\n",
      "\n",
      "80\n",
      "\n",
      "110\n",
      "\n",
      "60\n",
      "\n",
      "S H E E T   3  \n",
      "\n",
      "  O F   2 5\n",
      "\n",
      "Mount Bracket.ipt\n",
      "\n",
      "Hardware, Bracket\n",
      "\n",
      "\f\n"
     ]
    }
   ],
   "source": [
    "page3\n",
    "print(page3)\n",
    "page3=page3.split(\"\\n\\n\")\n"
   ]
  },
  {
   "cell_type": "code",
   "execution_count": 114,
   "metadata": {},
   "outputs": [
    {
     "name": "stdout",
     "output_type": "stream",
     "text": [
      "['25', '35', '40', '35', '30', '50', '25', '3 X 4 5(cid:99) CHA M FER', '(cid:80)6 THRU\\n(cid:88) (cid:80)12 (cid:90) 5\\n2 PLCS', 'R6', '30', 'ALL DIMENSIONS\\nARE IN MILLIMETERS', '25', '80', '110', '60', 'S H E E T   3  ', '  O F   2 5', 'Mount Bracket.ipt', 'Hardware, Bracket', '\\x0c']\n"
     ]
    }
   ],
   "source": [
    "print(page3)\n",
    "li=[i for i in page3 if i.isnumeric() and not i.isalpha()]"
   ]
  },
  {
   "cell_type": "code",
   "execution_count": 115,
   "metadata": {},
   "outputs": [
    {
     "name": "stdout",
     "output_type": "stream",
     "text": [
      "['25', '35', '40', '35', '30', '50', '25', '30', '25', '80', '110', '60']\n"
     ]
    }
   ],
   "source": [
    "print(li)"
   ]
  },
  {
   "cell_type": "code",
   "execution_count": 116,
   "metadata": {},
   "outputs": [
    {
     "name": "stdout",
     "output_type": "stream",
     "text": [
      "width of two holes is  50\n"
     ]
    }
   ],
   "source": [
    "#width of two holes is :\n",
    "print(\"width of two holes is \",li[5])"
   ]
  },
  {
   "cell_type": "markdown",
   "metadata": {},
   "source": [
    "#Task 6: depth of chamber"
   ]
  },
  {
   "cell_type": "code",
   "execution_count": 117,
   "metadata": {},
   "outputs": [
    {
     "name": "stdout",
     "output_type": "stream",
     "text": [
      "Depth if chamber is: 25\n"
     ]
    }
   ],
   "source": [
    "print(\"Depth if chamber is:\",li[0])"
   ]
  },
  {
   "cell_type": "markdown",
   "metadata": {},
   "source": [
    "#Task 7\n"
   ]
  },
  {
   "cell_type": "code",
   "execution_count": null,
   "metadata": {},
   "outputs": [
    {
     "name": "stdout",
     "output_type": "stream",
     "text": [
      "Saved high-resolution image to high_res_extracted_image_page_2_img_1.png\n",
      "Saved high-resolution image to high_res_extracted_image_page_2_img_2.png\n"
     ]
    }
   ],
   "source": [
    "import pdfplumber\n",
    "from PIL import Image\n",
    "import io\n",
    "\n",
    "with pdfplumber.open(\"Eng.pdf\") as pdf:\n",
    "    \n",
    "    page_number = 1\n",
    "    page = pdf.pages[page_number]\n",
    "\n",
    "    images = page.images\n",
    "    \n",
    "    for img_index, img in enumerate(images):\n",
    "        \n",
    "        x0, y0, x1, y1 = img['x0'], img['top'], img['x1'], img['bottom']\n",
    "        extracted_image = page.within_bbox((x0, y0, x1, y1)).to_image(resolution=600)  # Increase the resolution for higher quality\n",
    "        \n",
    "        img_bytes = io.BytesIO()\n",
    "        extracted_image.original.save(img_bytes, format='PNG')\n",
    "        img_bytes = img_bytes.getvalue()\n",
    "        pil_image = Image.open(io.BytesIO(img_bytes))\n",
    "        \n",
    "        image_path = f\"high_res_extracted_image_page_{page_number + 1}_img_{img_index + 1}.png\"\n",
    "        pil_image.save(image_path)\n",
    "        print(f\"Saved high-resolution image to {image_path}\")\n"
   ]
  },
  {
   "cell_type": "code",
   "execution_count": 217,
   "metadata": {},
   "outputs": [
    {
     "name": "stdout",
     "output_type": "stream",
     "text": [
      "Saved high-quality image to high_quality_image_page_2_img_1.png\n",
      "Saved high-quality image to high_quality_image_page_2_img_2.png\n"
     ]
    }
   ],
   "source": [
    "import pdfplumber\n",
    "from PIL import Image\n",
    "import io\n",
    "\n",
    "\n",
    "with pdfplumber.open(\"Eng.pdf\") as pdf:\n",
    "   \n",
    "    page_number = 1\n",
    "    page = pdf.pages[page_number]\n",
    "    \n",
    "    \n",
    "    images = page.images\n",
    "    \n",
    "   \n",
    "    for img_index, img in enumerate(images):\n",
    "       \n",
    "        img_bbox = (img['x0'], img['top'], img['x1'], img['bottom'])\n",
    "        \n",
    "        \n",
    "        pil_image = page.within_bbox(img_bbox).to_image(resolution=600).original\n",
    "\n",
    "        \n",
    "        image_path = f\"high_quality_image_page_{page_number + 1}_img_{img_index + 1}.png\"\n",
    "        pil_image.save(image_path, format='PNG')\n",
    "        print(f\"Saved high-quality image to {image_path}\")\n"
   ]
  },
  {
   "cell_type": "code",
   "execution_count": null,
   "metadata": {},
   "outputs": [
    {
     "name": "stdout",
     "output_type": "stream",
     "text": [
      "Saved enhanced image to enhanced_image_page_2_img_1.png\n",
      "Saved enhanced image to enhanced_image_page_2_img_2.png\n"
     ]
    }
   ],
   "source": [
    "import pdfplumber\n",
    "from PIL import Image, ImageEnhance, ImageFilter\n",
    "import io\n",
    "\n",
    "with pdfplumber.open(\"Eng.pdf\") as pdf:\n",
    "    \n",
    "    page_number = 1\n",
    "    page = pdf.pages[page_number]\n",
    "    \n",
    "    # Extract images from the page\n",
    "    images = page.images\n",
    "    \n",
    "    \n",
    "    for img_index, img in enumerate(images):\n",
    "        \n",
    "        img_bbox = (img['x0'], img['top'], img['x1'], img['bottom'])\n",
    "        \n",
    "        \n",
    "        pil_image = page.to_image(resolution=600).original\n",
    "        \n",
    "       \n",
    "        cropped_image = pil_image.crop(img_bbox)\n",
    "        \n",
    "        \n",
    "        gray_image = cropped_image.convert(\"L\")\n",
    "        \n",
    "        \n",
    "        contrast_enhancer = ImageEnhance.Contrast(gray_image)\n",
    "        enhanced_image = contrast_enhancer.enhance(2)  # Adjust the contrast level as needed\n",
    "        \n",
    "        \n",
    "        sharpened_image = enhanced_image.filter(ImageFilter.SHARPEN)\n",
    "        \n",
    "        \n",
    "        image_path = f\"enhanced_image_page_{page_number + 1}_img_{img_index + 1}.png\"\n",
    "        sharpened_image.save(image_path, format='PNG')\n",
    "        print(f\"Saved enhanced image to {image_path}\")\n"
   ]
  },
  {
   "cell_type": "code",
   "execution_count": null,
   "metadata": {},
   "outputs": [
    {
     "name": "stdout",
     "output_type": "stream",
     "text": [
      "Preprocessed image saved at: preprocessed_image.png\n",
      "Extracted Table Data:\n",
      "['if', ',', '=e.', '>', '———=', 'ss', '=', '=', 'SS']\n",
      "['NES', 'ERLPLION', 'CATE', '_|']\n",
      "['a']\n",
      "['|']\n",
      "['|']\n",
      "['|', '¢']\n",
      "['|']\n",
      "['|', 'one', '38', 'OGSERIOT', '10%']\n",
      "['ee']\n",
      "['STAYED', 'ALL', 'OINERNSIONS', ';', 'neP—', '$:1:70', 'awall', 'fang', 'ef', 'eee']\n",
      "['4)', \"[eenaiee'\", 'HRTERIAT', '—', 'TILE', 'OF', 'OW6.!']\n",
      "['ANGULAR!', 'AST', 'STeUl', '___________', '—']\n",
      "['i', 'a', 'NOY', 'SCALE', 'Wea', 'LNG', 'a']\n",
      "['AS', 'MACHINED', 'Spare', 'u2_', 'i', 'ss', '[SHEEY', '1', 'et', '1']\n"
     ]
    }
   ],
   "source": [
    "import pytesseract\n",
    "from PIL import Image\n",
    "import cv2\n",
    "import numpy as np\n",
    "\n",
    "\n",
    "pytesseract.pytesseract.tesseract_cmd = r\"C:\\Program Files\\Tesseract-OCR\\tesseract.exe\"  \n",
    "\n",
    "\n",
    "image_path = \"up.jpg\"  \n",
    "\n",
    "\n",
    "image = cv2.imread(image_path)\n",
    "\n",
    "\n",
    "scale_percent = 200  # Scale the image by 200%\n",
    "width = int(image.shape[1] * scale_percent / 100)\n",
    "height = int(image.shape[0] * scale_percent / 100)\n",
    "dim = (width, height)\n",
    "resized_image = cv2.resize(image, dim, interpolation=cv2.INTER_CUBIC)\n",
    "\n",
    "\n",
    "gray_image = cv2.cvtColor(resized_image, cv2.COLOR_BGR2GRAY)\n",
    "\n",
    "\n",
    "blurred_image = cv2.GaussianBlur(gray_image, (5, 5), 0)\n",
    "\n",
    "\n",
    "thresh_image = cv2.adaptiveThreshold(blurred_image, 255, cv2.ADAPTIVE_THRESH_GAUSSIAN_C, cv2.THRESH_BINARY, 11, 2)\n",
    "\n",
    "\n",
    "preprocessed_image_path = \"preprocessed_image.png\"\n",
    "cv2.imwrite(preprocessed_image_path, thresh_image)\n",
    "print(f\"Preprocessed image saved at: {preprocessed_image_path}\")\n",
    "\n",
    "\n",
    "custom_config = r'--oem 3 --psm 6'\n",
    "text = pytesseract.image_to_string(thresh_image, config=custom_config)\n",
    "\n",
    "\n",
    "lines = text.split('\\n')\n",
    "table_data = [line.split() for line in lines if line.strip()]\n",
    "\n",
    "print(\"Extracted Table Data:\")\n",
    "for row in table_data:\n",
    "    print(row)\n"
   ]
  },
  {
   "cell_type": "code",
   "execution_count": 1,
   "metadata": {},
   "outputs": [
    {
     "name": "stderr",
     "output_type": "stream",
     "text": [
      "Neither CUDA nor MPS are available - defaulting to CPU. Note: This module is much faster with a GPU.\n"
     ]
    }
   ],
   "source": [
    "import easyocr\n",
    "reader=easyocr.Reader(['en'],gpu=True)\n",
    "r=reader.readtext('up.jpg')"
   ]
  },
  {
   "cell_type": "code",
   "execution_count": 2,
   "metadata": {},
   "outputs": [
    {
     "name": "stdout",
     "output_type": "stream",
     "text": [
      "[([[np.int32(7368), np.int32(246)], [np.int32(8015), np.int32(246)], [np.int32(8015), np.int32(378)], [np.int32(7368), np.int32(378)]], '@EYLSLQS', np.float64(0.27623640650215686)), ([[np.int32(6414), np.int32(402)], [np.int32(6653), np.int32(402)], [np.int32(6653), np.int32(516)], [np.int32(6414), np.int32(516)]], 's', np.float64(0.2904469570889354)), ([[np.int32(6956), np.int32(385)], [np.int32(7735), np.int32(385)], [np.int32(7735), np.int32(518)], [np.int32(6956), np.int32(518)]], 'DeS CRLPILON', np.float64(0.40210800821730636)), ([[np.int32(8258), np.int32(379)], [np.int32(8565), np.int32(379)], [np.int32(8565), np.int32(502)], [np.int32(8258), np.int32(502)]], 'OATE', np.float64(0.47029438614845276)), ([[np.int32(8745), np.int32(381)], [np.int32(9041), np.int32(381)], [np.int32(9041), np.int32(485)], [np.int32(8745), np.int32(485)]], 'Appq', np.float64(0.4351150095462799)), ([[np.int32(6481), np.int32(4878)], [np.int32(6594), np.int32(4878)], [np.int32(6594), np.int32(5124)], [np.int32(6481), np.int32(5124)]], 'g', np.float64(0.04306268603413432)), ([[np.int32(6701), np.int32(4922)], [np.int32(6954), np.int32(4922)], [np.int32(6954), np.int32(5036)], [np.int32(6701), np.int32(5036)]], '0ag', np.float64(0.6801092831368516)), ([[np.int32(7012), np.int32(4939)], [np.int32(7129), np.int32(4939)], [np.int32(7129), np.int32(5027)], [np.int32(7012), np.int32(5027)]], '0r', np.float64(0.6588551542111727)), ([[np.int32(7647), np.int32(4957)], [np.int32(8456), np.int32(4957)], [np.int32(8456), np.int32(5097)], [np.int32(7647), np.int32(5097)]], 'oc S caiq1iON', np.float64(0.1473666749491991)), ([[np.int32(6628), np.int32(5040)], [np.int32(7189), np.int32(5040)], [np.int32(7189), np.int32(5154)], [np.int32(6628), np.int32(5154)]], 'PARI_Na', np.float64(0.36838481824978936)), ([[np.int32(6482), np.int32(5328)], [np.int32(6586), np.int32(5328)], [np.int32(6586), np.int32(5432)], [np.int32(6482), np.int32(5432)]], '7', np.float64(0.780230378764827)), ([[np.int32(6481), np.int32(5452)], [np.int32(6594), np.int32(5452)], [np.int32(6594), np.int32(5580)], [np.int32(6481), np.int32(5580)]], ')', np.float64(0.23558936994749846)), ([[np.int32(2569), np.int32(5678)], [np.int32(3045), np.int32(5678)], [np.int32(3045), np.int32(5801)], [np.int32(2569), np.int32(5801)]], 'UMLlSs', np.float64(0.12589372439444066)), ([[np.int32(3091), np.int32(5678)], [np.int32(3773), np.int32(5678)], [np.int32(3773), np.int32(5801)], [np.int32(3091), np.int32(5801)]], 'OT MA AMIs@', np.float64(0.16057958831580577)), ([[np.int32(5267), np.int32(5671)], [np.int32(5544), np.int32(5671)], [np.int32(5544), np.int32(5794)], [np.int32(5267), np.int32(5794)]], '0 RN', np.float64(0.5388666987419128)), ([[np.int32(5636), np.int32(5680)], [np.int32(6042), np.int32(5680)], [np.int32(6042), np.int32(5785)], [np.int32(5636), np.int32(5785)]], '1 : [ 70', np.float64(0.48235070600640745)), ([[np.int32(6341), np.int32(5679)], [np.int32(6579), np.int32(5679)], [np.int32(6579), np.int32(5793)], [np.int32(6341), np.int32(5793)]], 'JKL', np.float64(0.997956437459513)), ([[np.int32(2562), np.int32(5789)], [np.int32(3016), np.int32(5789)], [np.int32(3016), np.int32(5912)], [np.int32(2562), np.int32(5912)]], 'STaTed', np.float64(0.10799691018704749)), ([[np.int32(3046), np.int32(5773)], [np.int32(3980), np.int32(5773)], [np.int32(3980), np.int32(5913)], [np.int32(3046), np.int32(5913)]], 'ALL OIMEMSIONS', np.float64(0.5055075938354612)), ([[np.int32(7336), np.int32(5727)], [np.int32(7715), np.int32(5727)], [np.int32(7715), np.int32(5865)], [np.int32(7336), np.int32(5865)]], '(HANC', np.float64(0.08308503394635916)), ([[np.int32(7765), np.int32(5729)], [np.int32(7926), np.int32(5729)], [np.int32(7926), np.int32(5861)], [np.int32(7765), np.int32(5861)]], '0p', np.float64(0.35921121034937953)), ([[np.int32(7978), np.int32(5722)], [np.int32(8345), np.int32(5722)], [np.int32(8345), np.int32(5854)], [np.int32(7978), np.int32(5854)]], 'Firm)', np.float64(0.28699504598769493)), ([[np.int32(5274), np.int32(5818)], [np.int32(5588), np.int32(5818)], [np.int32(5588), np.int32(5941)], [np.int32(5274), np.int32(5941)]], 'Appd', np.float64(0.3061279356479645)), ([[np.int32(5639), np.int32(5814)], [np.int32(6105), np.int32(5814)], [np.int32(6105), np.int32(5947)], [np.int32(5639), np.int32(5947)]], '5;1 : 70', np.float64(0.8461504956989006)), ([[np.int32(6318), np.int32(5818)], [np.int32(6602), np.int32(5818)], [np.int32(6602), np.int32(5941)], [np.int32(6318), np.int32(5941)]], 'A w 8', np.float64(0.41327032234932015)), ([[np.int32(2569), np.int32(5899)], [np.int32(3574), np.int32(5899)], [np.int32(3574), np.int32(6022)], [np.int32(2569), np.int32(6022)]], 'Ih MiLLimetBES', np.float64(0.12832618062921225)), ([[np.int32(2569), np.int32(5994)], [np.int32(3339), np.int32(5994)], [np.int32(3339), np.int32(6117)], [np.int32(2569), np.int32(6117)]], 'TdLEAaice$', np.float64(0.1477417296798501)), ([[np.int32(4120), np.int32(5987)], [np.int32(4743), np.int32(5987)], [np.int32(4743), np.int32(6110)], [np.int32(4120), np.int32(6110)]], 'NATERIAl', np.float64(0.0857882827500808)), ([[np.int32(7319), np.int32(6034)], [np.int32(7741), np.int32(6034)], [np.int32(7741), np.int32(6185)], [np.int32(7319), np.int32(6185)]], 'MIILE', np.float64(0.20067055654871846)), ([[np.int32(7781), np.int32(6039)], [np.int32(7940), np.int32(6039)], [np.int32(7940), np.int32(6161)], [np.int32(7781), np.int32(6161)]], 'OF', np.float64(0.702253486680126)), ([[np.int32(7986), np.int32(6039)], [np.int32(8337), np.int32(6039)], [np.int32(8337), np.int32(6161)], [np.int32(7986), np.int32(6161)]], '0wg.)', np.float64(0.5659275036941596)), ([[np.int32(2579), np.int32(6085)], [np.int32(3087), np.int32(6085)], [np.int32(3087), np.int32(6189)], [np.int32(2579), np.int32(6189)]], 'Lixcar ;', np.float64(0.47223107338181647)), ([[np.int32(2584), np.int32(6186)], [np.int32(3192), np.int32(6186)], [np.int32(3192), np.int32(6308)], [np.int32(2584), np.int32(6308)]], 'ANGULAR:', np.float64(0.6014798405635298)), ([[np.int32(4304), np.int32(6134)], [np.int32(4611), np.int32(6134)], [np.int32(4611), np.int32(6257)], [np.int32(4304), np.int32(6257)]], 'CAST', np.float64(0.69908607006073)), ([[np.int32(4668), np.int32(6119)], [np.int32(5069), np.int32(6119)], [np.int32(5069), np.int32(6260)], [np.int32(4668), np.int32(6260)]], 'STClL', np.float64(0.26386544619118796)), ([[np.int32(4114), np.int32(6319)], [np.int32(4551), np.int32(6319)], [np.int32(4551), np.int32(6432)], [np.int32(4114), np.int32(6432)]], 'Finish', np.float64(0.7936961310454688)), ([[np.int32(6651), np.int32(6290)], [np.int32(6850), np.int32(6290)], [np.int32(6850), np.int32(6387)], [np.int32(6651), np.int32(6387)]], 'Siz', np.float64(0.6627165230034907)), ([[np.int32(7847), np.int32(6266)], [np.int32(8102), np.int32(6266)], [np.int32(8102), np.int32(6389)], [np.int32(7847), np.int32(6389)]], 'ora', np.float64(0.8473735412889257)), ([[np.int32(8198), np.int32(6317)], [np.int32(8647), np.int32(6317)], [np.int32(8647), np.int32(6449)], [np.int32(8198), np.int32(6449)]], 'A7L6u1', np.float64(0.060486623491419055)), ([[np.int32(5353), np.int32(6389)], [np.int32(5561), np.int32(6389)], [np.int32(5561), np.int32(6538)], [np.int32(5353), np.int32(6538)]], 'DO', np.float64(0.8976565209861673)), ([[np.int32(5631), np.int32(6381)], [np.int32(5929), np.int32(6381)], [np.int32(5929), np.int32(6539)], [np.int32(5631), np.int32(6539)]], 'NOT', np.float64(0.9892335751913808)), ([[np.int32(5999), np.int32(6374)], [np.int32(6481), np.int32(6374)], [np.int32(6481), np.int32(6539)], [np.int32(5999), np.int32(6539)]], 'SCALE', np.float64(0.9994591856558256)), ([[np.int32(7849), np.int32(6371)], [np.int32(8004), np.int32(6371)], [np.int32(8004), np.int32(6476)], [np.int32(7849), np.int32(6476)]], 'No', np.float64(0.9971433873024038)), ([[np.int32(4201), np.int32(6472)], [np.int32(4361), np.int32(6472)], [np.int32(4361), np.int32(6595)], [np.int32(4201), np.int32(6595)]], 'As', np.float64(0.48849779440243396)), ([[np.int32(4429), np.int32(6472)], [np.int32(5044), np.int32(6472)], [np.int32(5044), np.int32(6595)], [np.int32(4429), np.int32(6595)]], 'schincd', np.float64(0.5068350275398061)), ([[np.int32(6641), np.int32(6502)], [np.int32(7043), np.int32(6502)], [np.int32(7043), np.int32(6625)], [np.int32(6641), np.int32(6625)]], 'SCALE', np.float64(0.8367094867208843)), ([[np.int32(8317), np.int32(6487)], [np.int32(8727), np.int32(6487)], [np.int32(8727), np.int32(6610)], [np.int32(8317), np.int32(6610)]], 'SheeT', np.float64(0.24445065755527598)), ([[np.int32(8753), np.int32(6504)], [np.int32(9063), np.int32(6504)], [np.int32(9063), np.int32(6600)], [np.int32(8753), np.int32(6600)]], '1 01 |', np.float64(0.5481800153692453))]\n"
     ]
    }
   ],
   "source": [
    "print(r)"
   ]
  },
  {
   "cell_type": "code",
   "execution_count": 4,
   "metadata": {},
   "outputs": [
    {
     "name": "stdout",
     "output_type": "stream",
     "text": [
      "Defaulting to user installation because normal site-packages is not writeableNote: you may need to restart the kernel to use updated packages.\n",
      "\n",
      "Requirement already satisfied: requests in c:\\users\\pinja\\appdata\\roaming\\python\\python310\\site-packages (2.32.3)\n",
      "Requirement already satisfied: charset-normalizer<4,>=2 in c:\\users\\pinja\\appdata\\roaming\\python\\python310\\site-packages (from requests) (3.4.0)\n",
      "Requirement already satisfied: idna<4,>=2.5 in c:\\users\\pinja\\appdata\\roaming\\python\\python310\\site-packages (from requests) (3.10)\n",
      "Requirement already satisfied: urllib3<3,>=1.21.1 in c:\\users\\pinja\\appdata\\roaming\\python\\python310\\site-packages (from requests) (2.2.3)\n",
      "Requirement already satisfied: certifi>=2017.4.17 in c:\\users\\pinja\\appdata\\roaming\\python\\python310\\site-packages (from requests) (2024.12.14)\n"
     ]
    }
   ],
   "source": [
    "pip install requests"
   ]
  },
  {
   "cell_type": "code",
   "execution_count": 7,
   "metadata": {},
   "outputs": [
    {
     "name": "stdout",
     "output_type": "stream",
     "text": [
      "                                                    0               1  \\\n",
      "0   [[7368, 246], [8015, 246], [8015, 378], [7368,...        @EYLSLQS   \n",
      "1   [[6414, 402], [6653, 402], [6653, 516], [6414,...               s   \n",
      "2   [[6956, 385], [7735, 385], [7735, 518], [6956,...    DeS CRLPILON   \n",
      "3   [[8258, 379], [8565, 379], [8565, 502], [8258,...            OATE   \n",
      "4   [[8745, 381], [9041, 381], [9041, 485], [8745,...            Appq   \n",
      "5   [[6481, 4878], [6594, 4878], [6594, 5124], [64...               g   \n",
      "6   [[6701, 4922], [6954, 4922], [6954, 5036], [67...             0ag   \n",
      "7   [[7012, 4939], [7129, 4939], [7129, 5027], [70...              0r   \n",
      "8   [[7647, 4957], [8456, 4957], [8456, 5097], [76...   oc S caiq1iON   \n",
      "9   [[6628, 5040], [7189, 5040], [7189, 5154], [66...         PARI_Na   \n",
      "10  [[6482, 5328], [6586, 5328], [6586, 5432], [64...               7   \n",
      "11  [[6481, 5452], [6594, 5452], [6594, 5580], [64...               )   \n",
      "12  [[2569, 5678], [3045, 5678], [3045, 5801], [25...          UMLlSs   \n",
      "13  [[3091, 5678], [3773, 5678], [3773, 5801], [30...     OT MA AMIs@   \n",
      "14  [[5267, 5671], [5544, 5671], [5544, 5794], [52...            0 RN   \n",
      "15  [[5636, 5680], [6042, 5680], [6042, 5785], [56...        1 : [ 70   \n",
      "16  [[6341, 5679], [6579, 5679], [6579, 5793], [63...             JKL   \n",
      "17  [[2562, 5789], [3016, 5789], [3016, 5912], [25...          STaTed   \n",
      "18  [[3046, 5773], [3980, 5773], [3980, 5913], [30...  ALL OIMEMSIONS   \n",
      "19  [[7336, 5727], [7715, 5727], [7715, 5865], [73...           (HANC   \n",
      "20  [[7765, 5729], [7926, 5729], [7926, 5861], [77...              0p   \n",
      "21  [[7978, 5722], [8345, 5722], [8345, 5854], [79...           Firm)   \n",
      "22  [[5274, 5818], [5588, 5818], [5588, 5941], [52...            Appd   \n",
      "23  [[5639, 5814], [6105, 5814], [6105, 5947], [56...        5;1 : 70   \n",
      "24  [[6318, 5818], [6602, 5818], [6602, 5941], [63...           A w 8   \n",
      "25  [[2569, 5899], [3574, 5899], [3574, 6022], [25...  Ih MiLLimetBES   \n",
      "26  [[2569, 5994], [3339, 5994], [3339, 6117], [25...      TdLEAaice$   \n",
      "27  [[4120, 5987], [4743, 5987], [4743, 6110], [41...        NATERIAl   \n",
      "28  [[7319, 6034], [7741, 6034], [7741, 6185], [73...           MIILE   \n",
      "29  [[7781, 6039], [7940, 6039], [7940, 6161], [77...              OF   \n",
      "30  [[7986, 6039], [8337, 6039], [8337, 6161], [79...           0wg.)   \n",
      "31  [[2579, 6085], [3087, 6085], [3087, 6189], [25...        Lixcar ;   \n",
      "32  [[2584, 6186], [3192, 6186], [3192, 6308], [25...        ANGULAR:   \n",
      "33  [[4304, 6134], [4611, 6134], [4611, 6257], [43...            CAST   \n",
      "34  [[4668, 6119], [5069, 6119], [5069, 6260], [46...           STClL   \n",
      "35  [[4114, 6319], [4551, 6319], [4551, 6432], [41...          Finish   \n",
      "36  [[6651, 6290], [6850, 6290], [6850, 6387], [66...             Siz   \n",
      "37  [[7847, 6266], [8102, 6266], [8102, 6389], [78...             ora   \n",
      "38  [[8198, 6317], [8647, 6317], [8647, 6449], [81...          A7L6u1   \n",
      "39  [[5353, 6389], [5561, 6389], [5561, 6538], [53...              DO   \n",
      "40  [[5631, 6381], [5929, 6381], [5929, 6539], [56...             NOT   \n",
      "41  [[5999, 6374], [6481, 6374], [6481, 6539], [59...           SCALE   \n",
      "42  [[7849, 6371], [8004, 6371], [8004, 6476], [78...              No   \n",
      "43  [[4201, 6472], [4361, 6472], [4361, 6595], [42...              As   \n",
      "44  [[4429, 6472], [5044, 6472], [5044, 6595], [44...         schincd   \n",
      "45  [[6641, 6502], [7043, 6502], [7043, 6625], [66...           SCALE   \n",
      "46  [[8317, 6487], [8727, 6487], [8727, 6610], [83...           SheeT   \n",
      "47  [[8753, 6504], [9063, 6504], [9063, 6600], [87...          1 01 |   \n",
      "\n",
      "           2  \n",
      "0   0.276236  \n",
      "1   0.290447  \n",
      "2   0.402108  \n",
      "3   0.470294  \n",
      "4   0.435115  \n",
      "5   0.043063  \n",
      "6   0.680109  \n",
      "7   0.658855  \n",
      "8   0.147367  \n",
      "9   0.368385  \n",
      "10  0.780230  \n",
      "11  0.235589  \n",
      "12  0.125894  \n",
      "13  0.160580  \n",
      "14  0.538867  \n",
      "15  0.482351  \n",
      "16  0.997956  \n",
      "17  0.107997  \n",
      "18  0.505508  \n",
      "19  0.083085  \n",
      "20  0.359211  \n",
      "21  0.286995  \n",
      "22  0.306128  \n",
      "23  0.846150  \n",
      "24  0.413270  \n",
      "25  0.128326  \n",
      "26  0.147742  \n",
      "27  0.085788  \n",
      "28  0.200671  \n",
      "29  0.702253  \n",
      "30  0.565928  \n",
      "31  0.472231  \n",
      "32  0.601480  \n",
      "33  0.699086  \n",
      "34  0.263865  \n",
      "35  0.793696  \n",
      "36  0.662717  \n",
      "37  0.847374  \n",
      "38  0.060487  \n",
      "39  0.897657  \n",
      "40  0.989234  \n",
      "41  0.999459  \n",
      "42  0.997143  \n",
      "43  0.488498  \n",
      "44  0.506835  \n",
      "45  0.836709  \n",
      "46  0.244451  \n",
      "47  0.548180  \n"
     ]
    },
    {
     "data": {
      "text/plain": [
       "0           @EYLSLQS\n",
       "1                  s\n",
       "2       DeS CRLPILON\n",
       "3               OATE\n",
       "4               Appq\n",
       "5                  g\n",
       "6                0ag\n",
       "7                 0r\n",
       "8      oc S caiq1iON\n",
       "9            PARI_Na\n",
       "10                 7\n",
       "11                 )\n",
       "12            UMLlSs\n",
       "13       OT MA AMIs@\n",
       "14              0 RN\n",
       "15          1 : [ 70\n",
       "16               JKL\n",
       "17            STaTed\n",
       "18    ALL OIMEMSIONS\n",
       "19             (HANC\n",
       "20                0p\n",
       "21             Firm)\n",
       "22              Appd\n",
       "23          5;1 : 70\n",
       "24             A w 8\n",
       "25    Ih MiLLimetBES\n",
       "26        TdLEAaice$\n",
       "27          NATERIAl\n",
       "28             MIILE\n",
       "29                OF\n",
       "30             0wg.)\n",
       "31          Lixcar ;\n",
       "32          ANGULAR:\n",
       "33              CAST\n",
       "34             STClL\n",
       "35            Finish\n",
       "36               Siz\n",
       "37               ora\n",
       "38            A7L6u1\n",
       "39                DO\n",
       "40               NOT\n",
       "41             SCALE\n",
       "42                No\n",
       "43                As\n",
       "44           schincd\n",
       "45             SCALE\n",
       "46             SheeT\n",
       "47            1 01 |\n",
       "Name: 1, dtype: object"
      ]
     },
     "execution_count": 7,
     "metadata": {},
     "output_type": "execute_result"
    }
   ],
   "source": [
    "import pandas as pd\n",
    "p=pd.DataFrame(r)\n",
    "print(p)\n",
    "p[1]"
   ]
  },
  {
   "cell_type": "code",
   "execution_count": null,
   "metadata": {},
   "outputs": [],
   "source": []
  },
  {
   "cell_type": "code",
   "execution_count": null,
   "metadata": {},
   "outputs": [],
   "source": []
  }
 ],
 "metadata": {
  "kernelspec": {
   "display_name": "Python 3",
   "language": "python",
   "name": "python3"
  },
  "language_info": {
   "codemirror_mode": {
    "name": "ipython",
    "version": 3
   },
   "file_extension": ".py",
   "mimetype": "text/x-python",
   "name": "python",
   "nbconvert_exporter": "python",
   "pygments_lexer": "ipython3",
   "version": "3.10.0"
  }
 },
 "nbformat": 4,
 "nbformat_minor": 2
}
